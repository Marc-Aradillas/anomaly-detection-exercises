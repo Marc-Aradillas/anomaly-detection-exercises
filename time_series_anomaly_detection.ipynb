{
 "cells": [
  {
   "cell_type": "code",
   "execution_count": 1,
   "id": "cf52355e-accf-4a34-a659-92a50d96ebda",
   "metadata": {},
   "outputs": [],
   "source": [
    "import matplotlib.pyplot as plt\n",
    "import numpy as np\n",
    "import pandas as pd\n",
    "import seaborn as sns\n",
    "from sklearn import metrics\n",
    "import env"
   ]
  },
  {
   "cell_type": "code",
   "execution_count": null,
   "id": "e8987409-91df-4722-8098-fd188f88212e",
   "metadata": {},
   "outputs": [],
   "source": [
    "# Constant (to generate filename for csv)\n",
    "filename = 'curriculum_logs_data.csv'\n",
    "\n",
    "# Acquire data.\n",
    "# ----------------------ACQUIRE FUNCTION---------------------------------\n",
    "def acquire_curlogs():\n",
    "\n",
    "    if os.path.isfile(filename):\n",
    "        \n",
    "        return pd.read_csv(filename)\n",
    "        \n",
    "    else: \n",
    "\n",
    "        query = '''\n",
    "                \n",
    "                '''\n",
    "\n",
    "        url = get_connection('zillow')\n",
    "                \n",
    "        df = pd.read_sql(query, url)\n",
    "\n",
    "        # save to csv\n",
    "        df.to_csv(filename,index=False)\n",
    "\n",
    "        return df"
   ]
  },
  {
   "cell_type": "code",
   "execution_count": null,
   "id": "896febfc-db91-4843-9924-af1ea145c2e9",
   "metadata": {},
   "outputs": [],
   "source": []
  }
 ],
 "metadata": {
  "kernelspec": {
   "display_name": "Python 3 (ipykernel)",
   "language": "python",
   "name": "python3"
  },
  "language_info": {
   "codemirror_mode": {
    "name": "ipython",
    "version": 3
   },
   "file_extension": ".py",
   "mimetype": "text/x-python",
   "name": "python",
   "nbconvert_exporter": "python",
   "pygments_lexer": "ipython3",
   "version": "3.10.9"
  }
 },
 "nbformat": 4,
 "nbformat_minor": 5
}
