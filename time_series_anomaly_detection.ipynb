{
 "cells": [
  {
   "cell_type": "code",
   "execution_count": 1,
   "id": "cf52355e-accf-4a34-a659-92a50d96ebda",
   "metadata": {},
   "outputs": [
    {
     "ename": "ModuleNotFoundError",
     "evalue": "No module named 'env'",
     "output_type": "error",
     "traceback": [
      "\u001b[1;31m---------------------------------------------------------------------------\u001b[0m",
      "\u001b[1;31mModuleNotFoundError\u001b[0m                       Traceback (most recent call last)",
      "Cell \u001b[1;32mIn[1], line 6\u001b[0m\n\u001b[0;32m      4\u001b[0m \u001b[38;5;28;01mimport\u001b[39;00m \u001b[38;5;21;01mseaborn\u001b[39;00m \u001b[38;5;28;01mas\u001b[39;00m \u001b[38;5;21;01msns\u001b[39;00m\n\u001b[0;32m      5\u001b[0m \u001b[38;5;28;01mfrom\u001b[39;00m \u001b[38;5;21;01msklearn\u001b[39;00m \u001b[38;5;28;01mimport\u001b[39;00m metrics\n\u001b[1;32m----> 6\u001b[0m \u001b[38;5;28;01mimport\u001b[39;00m \u001b[38;5;21;01menv\u001b[39;00m\n",
      "\u001b[1;31mModuleNotFoundError\u001b[0m: No module named 'env'"
     ]
    }
   ],
   "source": [
    "import matplotlib.pyplot as plt\n",
    "import numpy as np\n",
    "import pandas as pd\n",
    "import seaborn as sns\n",
    "from sklearn import metrics\n",
    "import env"
   ]
  },
  {
   "cell_type": "code",
   "execution_count": null,
   "id": "e8987409-91df-4722-8098-fd188f88212e",
   "metadata": {},
   "outputs": [],
   "source": [
    "# Constant (to generate filename for csv)\n",
    "filename = 'curriculum_logs_data.csv'\n",
    "\n",
    "# Acquire data.\n",
    "# ----------------------ACQUIRE FUNCTION---------------------------------\n",
    "def acquire_curlogs():\n",
    "\n",
    "    if os.path.isfile(filename):\n",
    "        \n",
    "        return pd.read_csv(filename)\n",
    "        \n",
    "    else: \n",
    "\n",
    "        query = '''\n",
    "                SELECT *\n",
    "                FROM cohorts\n",
    "                LEFT JOIN logs ON cohorts.id = logs.user_id;\n",
    "                '''\n",
    "\n",
    "        url = get_connection('zillow')\n",
    "                \n",
    "        df = pd.read_sql(query, url)\n",
    "\n",
    "        # save to csv\n",
    "        df.to_csv(filename,index=False)\n",
    "\n",
    "        return df"
   ]
  },
  {
   "cell_type": "code",
   "execution_count": null,
   "id": "896febfc-db91-4843-9924-af1ea145c2e9",
   "metadata": {},
   "outputs": [],
   "source": [
    "curr_df = acquire_logs()\n",
    "curr_df.info()"
   ]
  },
  {
   "cell_type": "code",
   "execution_count": null,
   "id": "2d44762f-f631-4516-9757-d85c096a6150",
   "metadata": {},
   "outputs": [],
   "source": [
    "curr_df.head()"
   ]
  },
  {
   "cell_type": "code",
   "execution_count": null,
   "id": "7256b404-1bee-4b08-a9a9-6b51c7413c02",
   "metadata": {},
   "outputs": [],
   "source": []
  }
 ],
 "metadata": {
  "kernelspec": {
   "display_name": "Python 3 (ipykernel)",
   "language": "python",
   "name": "python3"
  },
  "language_info": {
   "codemirror_mode": {
    "name": "ipython",
    "version": 3
   },
   "file_extension": ".py",
   "mimetype": "text/x-python",
   "name": "python",
   "nbconvert_exporter": "python",
   "pygments_lexer": "ipython3",
   "version": "3.10.12"
  }
 },
 "nbformat": 4,
 "nbformat_minor": 5
}
