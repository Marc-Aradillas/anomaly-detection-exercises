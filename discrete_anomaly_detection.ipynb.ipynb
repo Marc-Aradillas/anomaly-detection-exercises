{
 "cells": [
  {
   "cell_type": "markdown",
   "id": "6ef9894b-6977-4dcb-acff-2fda4701eeba",
   "metadata": {},
   "source": [
    "# Exercise | Probalistic Methods (DISCRETE)\n",
    "\n",
    "### Use basic probability to identify anomalous requests. Using the methods covered in this lesson, examine the rest of the features in the api access logs data set."
   ]
  },
  {
   "cell_type": "markdown",
   "id": "a262de85-c1c9-4bef-ae66-6be4e52afcdd",
   "metadata": {},
   "source": [
    "  "
   ]
  },
  {
   "cell_type": "code",
   "execution_count": 1,
   "id": "6eaa3478-4c9f-4bf4-ba6e-a297765a36cf",
   "metadata": {},
   "outputs": [],
   "source": [
    "import matplotlib.pyplot as plt\n",
    "import numpy as np\n",
    "import pandas as pd\n",
    "import seaborn as sns\n",
    "from sklearn import metrics\n",
    "import env"
   ]
  },
  {
   "cell_type": "markdown",
   "id": "aa8b0539-4d27-406a-a900-51582750c122",
   "metadata": {},
   "source": [
    "  "
   ]
  },
  {
   "cell_type": "code",
   "execution_count": 2,
   "id": "9512f590-6612-4b47-bb31-3c05666de6e8",
   "metadata": {
    "scrolled": true
   },
   "outputs": [
    {
     "name": "stdout",
     "output_type": "stream",
     "text": [
      "ip                13974\n",
      "timestamp         13974\n",
      "request_method    13974\n",
      "request_path      13974\n",
      "http_version      13974\n",
      "status_code       13974\n",
      "size              13974\n",
      "user_agent        13974\n",
      "dtype: int64\n"
     ]
    },
    {
     "data": {
      "text/html": [
       "<div>\n",
       "<style scoped>\n",
       "    .dataframe tbody tr th:only-of-type {\n",
       "        vertical-align: middle;\n",
       "    }\n",
       "\n",
       "    .dataframe tbody tr th {\n",
       "        vertical-align: top;\n",
       "    }\n",
       "\n",
       "    .dataframe thead th {\n",
       "        text-align: right;\n",
       "    }\n",
       "</style>\n",
       "<table border=\"1\" class=\"dataframe\">\n",
       "  <thead>\n",
       "    <tr style=\"text-align: right;\">\n",
       "      <th></th>\n",
       "      <th>ip</th>\n",
       "      <th>timestamp</th>\n",
       "      <th>request_method</th>\n",
       "      <th>request_path</th>\n",
       "      <th>http_version</th>\n",
       "      <th>status_code</th>\n",
       "      <th>size</th>\n",
       "      <th>user_agent</th>\n",
       "    </tr>\n",
       "  </thead>\n",
       "  <tbody>\n",
       "    <tr>\n",
       "      <th>0</th>\n",
       "      <td>97.105.19.58</td>\n",
       "      <td>16/Apr/2019 19:34:42</td>\n",
       "      <td>GET</td>\n",
       "      <td>/api/v1/sales?page=81</td>\n",
       "      <td>HTTP/1.1</td>\n",
       "      <td>200</td>\n",
       "      <td>512495</td>\n",
       "      <td>python-requests/2.21.0</td>\n",
       "    </tr>\n",
       "    <tr>\n",
       "      <th>1</th>\n",
       "      <td>97.105.19.58</td>\n",
       "      <td>16/Apr/2019 19:34:42</td>\n",
       "      <td>GET</td>\n",
       "      <td>/api/v1/items</td>\n",
       "      <td>HTTP/1.1</td>\n",
       "      <td>200</td>\n",
       "      <td>3561</td>\n",
       "      <td>python-requests/2.21.0</td>\n",
       "    </tr>\n",
       "    <tr>\n",
       "      <th>2</th>\n",
       "      <td>97.105.19.58</td>\n",
       "      <td>16/Apr/2019 19:34:44</td>\n",
       "      <td>GET</td>\n",
       "      <td>/api/v1/sales?page=82</td>\n",
       "      <td>HTTP/1.1</td>\n",
       "      <td>200</td>\n",
       "      <td>510103</td>\n",
       "      <td>python-requests/2.21.0</td>\n",
       "    </tr>\n",
       "    <tr>\n",
       "      <th>3</th>\n",
       "      <td>97.105.19.58</td>\n",
       "      <td>16/Apr/2019 19:34:46</td>\n",
       "      <td>GET</td>\n",
       "      <td>/api/v1/sales?page=83</td>\n",
       "      <td>HTTP/1.1</td>\n",
       "      <td>200</td>\n",
       "      <td>510003</td>\n",
       "      <td>python-requests/2.21.0</td>\n",
       "    </tr>\n",
       "    <tr>\n",
       "      <th>4</th>\n",
       "      <td>97.105.19.58</td>\n",
       "      <td>16/Apr/2019 19:34:48</td>\n",
       "      <td>GET</td>\n",
       "      <td>/api/v1/sales?page=84</td>\n",
       "      <td>HTTP/1.1</td>\n",
       "      <td>200</td>\n",
       "      <td>511963</td>\n",
       "      <td>python-requests/2.21.0</td>\n",
       "    </tr>\n",
       "  </tbody>\n",
       "</table>\n",
       "</div>"
      ],
      "text/plain": [
       "             ip             timestamp request_method           request_path  \\\n",
       "0  97.105.19.58  16/Apr/2019 19:34:42            GET  /api/v1/sales?page=81   \n",
       "1  97.105.19.58  16/Apr/2019 19:34:42            GET          /api/v1/items   \n",
       "2  97.105.19.58  16/Apr/2019 19:34:44            GET  /api/v1/sales?page=82   \n",
       "3  97.105.19.58  16/Apr/2019 19:34:46            GET  /api/v1/sales?page=83   \n",
       "4  97.105.19.58  16/Apr/2019 19:34:48            GET  /api/v1/sales?page=84   \n",
       "\n",
       "  http_version status_code    size              user_agent  \n",
       "0     HTTP/1.1         200  512495  python-requests/2.21.0  \n",
       "1     HTTP/1.1         200    3561  python-requests/2.21.0  \n",
       "2     HTTP/1.1         200  510103  python-requests/2.21.0  \n",
       "3     HTTP/1.1         200  510003  python-requests/2.21.0  \n",
       "4     HTTP/1.1         200  511963  python-requests/2.21.0  "
      ]
     },
     "execution_count": 2,
     "metadata": {},
     "output_type": "execute_result"
    }
   ],
   "source": [
    "# function to deal with parsing one entry in our log data\n",
    "def parse_log_entry(entry):\n",
    "    parts = entry.split()\n",
    "    output = {}\n",
    "    output['ip'] = parts[0]\n",
    "    output['timestamp'] = parts[3][1:].replace(':', ' ', 1)\n",
    "    output['request_method'] = parts[5][1:]\n",
    "    output['request_path'] = parts[6]\n",
    "    output['http_version'] = parts[7][:-1]\n",
    "    output['status_code'] = parts[8]\n",
    "    output['size'] = int(parts[9])\n",
    "    output['user_agent'] = ' '.join(parts[11:]).replace('\"', '')\n",
    "    return pd.Series(output)\n",
    "\n",
    "url = f'mysql+pymysql://{env.username}:{env.password}@{env.host}/logs'   \n",
    "df = pd.read_sql('SELECT * FROM api_access', url)\n",
    "# df = pd.concat([df.entry, df.entry.apply(parse_log_entry)], axis=1)\n",
    "df = df.entry.apply(parse_log_entry)\n",
    "print(df.count())\n",
    "df.head()"
   ]
  },
  {
   "cell_type": "markdown",
   "id": "7596aa76-758c-4ee9-ab98-f778b5e81764",
   "metadata": {},
   "source": [
    "  "
   ]
  },
  {
   "cell_type": "markdown",
   "id": "4151e201-fc41-4803-88b0-b4958be783b7",
   "metadata": {},
   "source": [
    "  "
   ]
  },
  {
   "cell_type": "markdown",
   "id": "02a8f441-0d5d-4244-8880-e2646fa0ed36",
   "metadata": {},
   "source": [
    " ## Synthetic Records "
   ]
  },
  {
   "cell_type": "markdown",
   "id": "36c718b2-12d4-468a-8a80-52641ced051c",
   "metadata": {},
   "source": [
    "  "
   ]
  },
  {
   "cell_type": "code",
   "execution_count": 3,
   "id": "eeda5622-5d2b-40d1-8250-41107d1b3e18",
   "metadata": {},
   "outputs": [],
   "source": [
    "new = pd.DataFrame([\n",
    "    [\"95.31.18.119\", \"21/Apr/2019 10:02:41\", \"GET\", \"/api/v1/items/\", \"HTTP/1.1\", '200', 1153005, \"python-requests/2.21.0\"],\n",
    "    [\"95.31.16.121\", \"17/Apr/2019 19:36:41\", \"GET\", \"/api/v1/sales?page=79/\", \"HTTP/1.1\", '301', 1005, \"python-requests/2.21.0\"],\n",
    "    [\"97.105.15.120\", \"18/Apr/2019 19:42:41\", \"GET\", \"/api/v1/sales?page=79/\", \"HTTP/1.1\", '301', 2560, \"python-requests/2.21.0\"],\n",
    "    [\"97.105.19.58\", \"19/Apr/2019 19:42:41\", \"GET\", \"/api/v1/sales?page=79/\", \"HTTP/1.1\", '200', 2056327, \"python-requests/2.21.0\"],\n",
    "], columns=df.columns)\n",
    "\n",
    "df = pd.concat([df,new])"
   ]
  },
  {
   "cell_type": "code",
   "execution_count": 4,
   "id": "9cb600c0-222e-417e-a353-4232d9533301",
   "metadata": {},
   "outputs": [
    {
     "name": "stdout",
     "output_type": "stream",
     "text": [
      "ip                13978\n",
      "timestamp         13978\n",
      "request_method    13978\n",
      "request_path      13978\n",
      "http_version      13978\n",
      "status_code       13978\n",
      "size              13978\n",
      "user_agent        13978\n",
      "dtype: int64\n"
     ]
    },
    {
     "data": {
      "text/html": [
       "<div>\n",
       "<style scoped>\n",
       "    .dataframe tbody tr th:only-of-type {\n",
       "        vertical-align: middle;\n",
       "    }\n",
       "\n",
       "    .dataframe tbody tr th {\n",
       "        vertical-align: top;\n",
       "    }\n",
       "\n",
       "    .dataframe thead th {\n",
       "        text-align: right;\n",
       "    }\n",
       "</style>\n",
       "<table border=\"1\" class=\"dataframe\">\n",
       "  <thead>\n",
       "    <tr style=\"text-align: right;\">\n",
       "      <th></th>\n",
       "      <th>ip</th>\n",
       "      <th>timestamp</th>\n",
       "      <th>request_method</th>\n",
       "      <th>request_path</th>\n",
       "      <th>http_version</th>\n",
       "      <th>status_code</th>\n",
       "      <th>size</th>\n",
       "      <th>user_agent</th>\n",
       "    </tr>\n",
       "  </thead>\n",
       "  <tbody>\n",
       "    <tr>\n",
       "      <th>0</th>\n",
       "      <td>97.105.19.58</td>\n",
       "      <td>16/Apr/2019 19:34:42</td>\n",
       "      <td>GET</td>\n",
       "      <td>/api/v1/sales?page=81</td>\n",
       "      <td>HTTP/1.1</td>\n",
       "      <td>200</td>\n",
       "      <td>512495</td>\n",
       "      <td>python-requests/2.21.0</td>\n",
       "    </tr>\n",
       "    <tr>\n",
       "      <th>1</th>\n",
       "      <td>97.105.19.58</td>\n",
       "      <td>16/Apr/2019 19:34:42</td>\n",
       "      <td>GET</td>\n",
       "      <td>/api/v1/items</td>\n",
       "      <td>HTTP/1.1</td>\n",
       "      <td>200</td>\n",
       "      <td>3561</td>\n",
       "      <td>python-requests/2.21.0</td>\n",
       "    </tr>\n",
       "    <tr>\n",
       "      <th>2</th>\n",
       "      <td>97.105.19.58</td>\n",
       "      <td>16/Apr/2019 19:34:44</td>\n",
       "      <td>GET</td>\n",
       "      <td>/api/v1/sales?page=82</td>\n",
       "      <td>HTTP/1.1</td>\n",
       "      <td>200</td>\n",
       "      <td>510103</td>\n",
       "      <td>python-requests/2.21.0</td>\n",
       "    </tr>\n",
       "    <tr>\n",
       "      <th>3</th>\n",
       "      <td>97.105.19.58</td>\n",
       "      <td>16/Apr/2019 19:34:46</td>\n",
       "      <td>GET</td>\n",
       "      <td>/api/v1/sales?page=83</td>\n",
       "      <td>HTTP/1.1</td>\n",
       "      <td>200</td>\n",
       "      <td>510003</td>\n",
       "      <td>python-requests/2.21.0</td>\n",
       "    </tr>\n",
       "    <tr>\n",
       "      <th>4</th>\n",
       "      <td>97.105.19.58</td>\n",
       "      <td>16/Apr/2019 19:34:48</td>\n",
       "      <td>GET</td>\n",
       "      <td>/api/v1/sales?page=84</td>\n",
       "      <td>HTTP/1.1</td>\n",
       "      <td>200</td>\n",
       "      <td>511963</td>\n",
       "      <td>python-requests/2.21.0</td>\n",
       "    </tr>\n",
       "  </tbody>\n",
       "</table>\n",
       "</div>"
      ],
      "text/plain": [
       "             ip             timestamp request_method           request_path  \\\n",
       "0  97.105.19.58  16/Apr/2019 19:34:42            GET  /api/v1/sales?page=81   \n",
       "1  97.105.19.58  16/Apr/2019 19:34:42            GET          /api/v1/items   \n",
       "2  97.105.19.58  16/Apr/2019 19:34:44            GET  /api/v1/sales?page=82   \n",
       "3  97.105.19.58  16/Apr/2019 19:34:46            GET  /api/v1/sales?page=83   \n",
       "4  97.105.19.58  16/Apr/2019 19:34:48            GET  /api/v1/sales?page=84   \n",
       "\n",
       "  http_version status_code    size              user_agent  \n",
       "0     HTTP/1.1         200  512495  python-requests/2.21.0  \n",
       "1     HTTP/1.1         200    3561  python-requests/2.21.0  \n",
       "2     HTTP/1.1         200  510103  python-requests/2.21.0  \n",
       "3     HTTP/1.1         200  510003  python-requests/2.21.0  \n",
       "4     HTTP/1.1         200  511963  python-requests/2.21.0  "
      ]
     },
     "execution_count": 4,
     "metadata": {},
     "output_type": "execute_result"
    }
   ],
   "source": [
    "print(df.count())\n",
    "\n",
    "df.head()"
   ]
  },
  {
   "cell_type": "markdown",
   "id": "ba8e7112-5552-47df-a8ab-e2278ce018cb",
   "metadata": {},
   "source": [
    "  "
   ]
  },
  {
   "cell_type": "markdown",
   "id": "cfd075e0-662e-49a5-8df0-d6ab188e5cd8",
   "metadata": {},
   "source": [
    "  "
   ]
  },
  {
   "cell_type": "markdown",
   "id": "8a45c8df-2e91-49d6-9b94-60b22cae8ddc",
   "metadata": {},
   "source": [
    "# Detecting Anomalies in Discrete Variables\n",
    "\n",
    "We can easily see some anomalies around IP addresses.\n",
    "\n",
    "To detect anomalies in discrete variables we can look at two ways of summarizing the variable:\n",
    "\n",
    "> count: the number of times each unique value appears in the dataset\n",
    "> \n",
    "> frequencies: the number of times each unique value appears in the dataset as a percentage of the total; the count divided by the total number of observations"
   ]
  },
  {
   "cell_type": "markdown",
   "id": "26e9f4c3-0dd4-407c-b12a-016afb2a1a88",
   "metadata": {},
   "source": [
    "  "
   ]
  },
  {
   "cell_type": "code",
   "execution_count": 5,
   "id": "12aeb9de-f799-4a35-9bdb-ba50b64c642b",
   "metadata": {},
   "outputs": [],
   "source": [
    "df['size_mb'] = df['size'] / 1024 / 1024 # conversion from bytes to kylobytes to megabytes in the new column\n",
    "df.timestamp = pd.to_datetime(df.timestamp)\n",
    "df = df.set_index('timestamp')"
   ]
  },
  {
   "cell_type": "code",
   "execution_count": 6,
   "id": "b973fae2-d3c2-41ff-898c-f4e494de2126",
   "metadata": {},
   "outputs": [
    {
     "data": {
      "text/html": [
       "<div>\n",
       "<style scoped>\n",
       "    .dataframe tbody tr th:only-of-type {\n",
       "        vertical-align: middle;\n",
       "    }\n",
       "\n",
       "    .dataframe tbody tr th {\n",
       "        vertical-align: top;\n",
       "    }\n",
       "\n",
       "    .dataframe thead th {\n",
       "        text-align: right;\n",
       "    }\n",
       "</style>\n",
       "<table border=\"1\" class=\"dataframe\">\n",
       "  <thead>\n",
       "    <tr style=\"text-align: right;\">\n",
       "      <th></th>\n",
       "      <th>ip</th>\n",
       "      <th>request_method</th>\n",
       "      <th>request_path</th>\n",
       "      <th>http_version</th>\n",
       "      <th>status_code</th>\n",
       "      <th>size</th>\n",
       "      <th>user_agent</th>\n",
       "      <th>size_mb</th>\n",
       "    </tr>\n",
       "    <tr>\n",
       "      <th>timestamp</th>\n",
       "      <th></th>\n",
       "      <th></th>\n",
       "      <th></th>\n",
       "      <th></th>\n",
       "      <th></th>\n",
       "      <th></th>\n",
       "      <th></th>\n",
       "      <th></th>\n",
       "    </tr>\n",
       "  </thead>\n",
       "  <tbody>\n",
       "    <tr>\n",
       "      <th>2019-04-16 19:34:42</th>\n",
       "      <td>97.105.19.58</td>\n",
       "      <td>GET</td>\n",
       "      <td>/api/v1/sales?page=81</td>\n",
       "      <td>HTTP/1.1</td>\n",
       "      <td>200</td>\n",
       "      <td>512495</td>\n",
       "      <td>python-requests/2.21.0</td>\n",
       "      <td>0.488753</td>\n",
       "    </tr>\n",
       "    <tr>\n",
       "      <th>2019-04-16 19:34:42</th>\n",
       "      <td>97.105.19.58</td>\n",
       "      <td>GET</td>\n",
       "      <td>/api/v1/items</td>\n",
       "      <td>HTTP/1.1</td>\n",
       "      <td>200</td>\n",
       "      <td>3561</td>\n",
       "      <td>python-requests/2.21.0</td>\n",
       "      <td>0.003396</td>\n",
       "    </tr>\n",
       "    <tr>\n",
       "      <th>2019-04-16 19:34:44</th>\n",
       "      <td>97.105.19.58</td>\n",
       "      <td>GET</td>\n",
       "      <td>/api/v1/sales?page=82</td>\n",
       "      <td>HTTP/1.1</td>\n",
       "      <td>200</td>\n",
       "      <td>510103</td>\n",
       "      <td>python-requests/2.21.0</td>\n",
       "      <td>0.486472</td>\n",
       "    </tr>\n",
       "    <tr>\n",
       "      <th>2019-04-16 19:34:46</th>\n",
       "      <td>97.105.19.58</td>\n",
       "      <td>GET</td>\n",
       "      <td>/api/v1/sales?page=83</td>\n",
       "      <td>HTTP/1.1</td>\n",
       "      <td>200</td>\n",
       "      <td>510003</td>\n",
       "      <td>python-requests/2.21.0</td>\n",
       "      <td>0.486377</td>\n",
       "    </tr>\n",
       "    <tr>\n",
       "      <th>2019-04-16 19:34:48</th>\n",
       "      <td>97.105.19.58</td>\n",
       "      <td>GET</td>\n",
       "      <td>/api/v1/sales?page=84</td>\n",
       "      <td>HTTP/1.1</td>\n",
       "      <td>200</td>\n",
       "      <td>511963</td>\n",
       "      <td>python-requests/2.21.0</td>\n",
       "      <td>0.488246</td>\n",
       "    </tr>\n",
       "  </tbody>\n",
       "</table>\n",
       "</div>"
      ],
      "text/plain": [
       "                               ip request_method           request_path  \\\n",
       "timestamp                                                                 \n",
       "2019-04-16 19:34:42  97.105.19.58            GET  /api/v1/sales?page=81   \n",
       "2019-04-16 19:34:42  97.105.19.58            GET          /api/v1/items   \n",
       "2019-04-16 19:34:44  97.105.19.58            GET  /api/v1/sales?page=82   \n",
       "2019-04-16 19:34:46  97.105.19.58            GET  /api/v1/sales?page=83   \n",
       "2019-04-16 19:34:48  97.105.19.58            GET  /api/v1/sales?page=84   \n",
       "\n",
       "                    http_version status_code    size              user_agent  \\\n",
       "timestamp                                                                      \n",
       "2019-04-16 19:34:42     HTTP/1.1         200  512495  python-requests/2.21.0   \n",
       "2019-04-16 19:34:42     HTTP/1.1         200    3561  python-requests/2.21.0   \n",
       "2019-04-16 19:34:44     HTTP/1.1         200  510103  python-requests/2.21.0   \n",
       "2019-04-16 19:34:46     HTTP/1.1         200  510003  python-requests/2.21.0   \n",
       "2019-04-16 19:34:48     HTTP/1.1         200  511963  python-requests/2.21.0   \n",
       "\n",
       "                      size_mb  \n",
       "timestamp                      \n",
       "2019-04-16 19:34:42  0.488753  \n",
       "2019-04-16 19:34:42  0.003396  \n",
       "2019-04-16 19:34:44  0.486472  \n",
       "2019-04-16 19:34:46  0.486377  \n",
       "2019-04-16 19:34:48  0.488246  "
      ]
     },
     "execution_count": 6,
     "metadata": {},
     "output_type": "execute_result"
    }
   ],
   "source": [
    "df.head()"
   ]
  },
  {
   "cell_type": "markdown",
   "id": "99a906bc-d79b-4478-8b2b-7ae97270f1c4",
   "metadata": {},
   "source": [
    "  "
   ]
  },
  {
   "cell_type": "markdown",
   "id": "58bfc4cf-4c9e-490e-b8af-358f1f1098c8",
   "metadata": {},
   "source": [
    "  "
   ]
  },
  {
   "cell_type": "markdown",
   "id": "e89677b7-0ca9-40cd-bb84-eaf8c4e98ad1",
   "metadata": {},
   "source": [
    "  "
   ]
  },
  {
   "cell_type": "markdown",
   "id": "d390bc06-13bf-4116-9e3f-6d30be7b61a7",
   "metadata": {},
   "source": [
    "  "
   ]
  },
  {
   "cell_type": "code",
   "execution_count": 7,
   "id": "c11778e7-0632-4a08-b501-b5df819b7e8e",
   "metadata": {},
   "outputs": [
    {
     "data": {
      "text/plain": [
       "97.105.19.58      11999\n",
       "173.173.113.51     1059\n",
       "72.181.113.170      613\n",
       "72.181.105.81       246\n",
       "68.201.219.223       21\n",
       "Name: ip, dtype: int64"
      ]
     },
     "execution_count": 7,
     "metadata": {},
     "output_type": "execute_result"
    }
   ],
   "source": [
    "df.ip.value_counts().head()"
   ]
  },
  {
   "cell_type": "markdown",
   "id": "ebd8c584-207e-45c0-aca2-8d21f517edf7",
   "metadata": {},
   "source": [
    "  "
   ]
  },
  {
   "cell_type": "markdown",
   "id": "3ac74515-cfb1-4012-af23-b9431959809b",
   "metadata": {},
   "source": [
    "  "
   ]
  },
  {
   "cell_type": "markdown",
   "id": "9533222d-ce72-489a-8deb-678d3db19844",
   "metadata": {},
   "source": [
    "  "
   ]
  },
  {
   "cell_type": "markdown",
   "id": "92437563-2f28-4226-93a7-a27b47a1cf92",
   "metadata": {},
   "source": [
    "  "
   ]
  },
  {
   "cell_type": "code",
   "execution_count": 8,
   "id": "78c7e95d-9ceb-41f2-8a64-559e1de0a22d",
   "metadata": {},
   "outputs": [
    {
     "data": {
      "text/plain": [
       "97.105.19.58      0.858420\n",
       "173.173.113.51    0.075762\n",
       "72.181.113.170    0.043855\n",
       "72.181.105.81     0.017599\n",
       "68.201.219.223    0.001502\n",
       "Name: ip, dtype: float64"
      ]
     },
     "execution_count": 8,
     "metadata": {},
     "output_type": "execute_result"
    }
   ],
   "source": [
    "df.ip.value_counts(normalize=True).head()"
   ]
  },
  {
   "cell_type": "markdown",
   "id": "97a594fc-7a8f-4f2e-a77b-a3e8969a9f96",
   "metadata": {},
   "source": [
    "  "
   ]
  },
  {
   "cell_type": "markdown",
   "id": "d2ef0587-84f4-447c-8a53-64390de0724e",
   "metadata": {},
   "source": [
    "  "
   ]
  },
  {
   "cell_type": "markdown",
   "id": "60618ea7-86f0-45a9-912d-55a3a16ec8d6",
   "metadata": {},
   "source": [
    "## Defined Function used to combine both pieces of information:"
   ]
  },
  {
   "cell_type": "markdown",
   "id": "9d855217-3638-4a69-a316-339125655a37",
   "metadata": {},
   "source": [
    "  "
   ]
  },
  {
   "cell_type": "code",
   "execution_count": 9,
   "id": "5ec4391c-e261-49bf-b843-d1c572823a34",
   "metadata": {},
   "outputs": [],
   "source": [
    "def value_counts_and_frequencies(s: pd.Series, dropna=True) -> pd.DataFrame:\n",
    "    return pd.merge(\n",
    "        s.value_counts(dropna=False).rename('count'),\n",
    "        s.value_counts(dropna=False, normalize=True).rename('freq'),\n",
    "        left_index=True,\n",
    "        right_index=True,\n",
    "    )"
   ]
  },
  {
   "cell_type": "markdown",
   "id": "a6878799-7c1a-462c-b1fc-d72e59070ef8",
   "metadata": {},
   "source": [
    "  "
   ]
  },
  {
   "cell_type": "markdown",
   "id": "bfd53650-ad94-4f44-b2d1-e33056e1d10a",
   "metadata": {},
   "source": [
    "  "
   ]
  },
  {
   "cell_type": "markdown",
   "id": "4707f166-b2d2-4cdd-a31b-dcd89aad6e5c",
   "metadata": {},
   "source": [
    "  "
   ]
  },
  {
   "cell_type": "markdown",
   "id": "89e133a1-e1a5-4fe7-be73-394f17a45609",
   "metadata": {},
   "source": [
    "  "
   ]
  },
  {
   "cell_type": "code",
   "execution_count": 10,
   "id": "fb239bb6-c3a1-45bf-93a2-803cd87b0e82",
   "metadata": {},
   "outputs": [
    {
     "data": {
      "text/html": [
       "<div>\n",
       "<style scoped>\n",
       "    .dataframe tbody tr th:only-of-type {\n",
       "        vertical-align: middle;\n",
       "    }\n",
       "\n",
       "    .dataframe tbody tr th {\n",
       "        vertical-align: top;\n",
       "    }\n",
       "\n",
       "    .dataframe thead th {\n",
       "        text-align: right;\n",
       "    }\n",
       "</style>\n",
       "<table border=\"1\" class=\"dataframe\">\n",
       "  <thead>\n",
       "    <tr style=\"text-align: right;\">\n",
       "      <th></th>\n",
       "      <th>count</th>\n",
       "      <th>freq</th>\n",
       "    </tr>\n",
       "  </thead>\n",
       "  <tbody>\n",
       "    <tr>\n",
       "      <th>97.105.19.58</th>\n",
       "      <td>11999</td>\n",
       "      <td>0.858420</td>\n",
       "    </tr>\n",
       "    <tr>\n",
       "      <th>173.173.113.51</th>\n",
       "      <td>1059</td>\n",
       "      <td>0.075762</td>\n",
       "    </tr>\n",
       "    <tr>\n",
       "      <th>72.181.113.170</th>\n",
       "      <td>613</td>\n",
       "      <td>0.043855</td>\n",
       "    </tr>\n",
       "    <tr>\n",
       "      <th>72.181.105.81</th>\n",
       "      <td>246</td>\n",
       "      <td>0.017599</td>\n",
       "    </tr>\n",
       "    <tr>\n",
       "      <th>68.201.219.223</th>\n",
       "      <td>21</td>\n",
       "      <td>0.001502</td>\n",
       "    </tr>\n",
       "  </tbody>\n",
       "</table>\n",
       "</div>"
      ],
      "text/plain": [
       "                count      freq\n",
       "97.105.19.58    11999  0.858420\n",
       "173.173.113.51   1059  0.075762\n",
       "72.181.113.170    613  0.043855\n",
       "72.181.105.81     246  0.017599\n",
       "68.201.219.223     21  0.001502"
      ]
     },
     "execution_count": 10,
     "metadata": {},
     "output_type": "execute_result"
    }
   ],
   "source": [
    "ip_df = value_counts_and_frequencies(df.ip)\n",
    "ip_df.head()"
   ]
  },
  {
   "cell_type": "markdown",
   "id": "b5fce396-a600-45a5-af55-e8a2668efb67",
   "metadata": {},
   "source": [
    "  "
   ]
  },
  {
   "cell_type": "markdown",
   "id": "1676043c-ed87-4ce9-a71a-9d8ca20e19c8",
   "metadata": {},
   "source": [
    "  "
   ]
  },
  {
   "cell_type": "markdown",
   "id": "13328889-4183-4c49-850c-78e166378dc0",
   "metadata": {},
   "source": [
    "  "
   ]
  },
  {
   "cell_type": "markdown",
   "id": "a28e51a0-ed1c-4c87-89b2-5cefbea0ee0f",
   "metadata": {},
   "source": [
    "  "
   ]
  },
  {
   "cell_type": "code",
   "execution_count": 11,
   "id": "519dc033-047f-481e-b4ca-1649d0c4cee3",
   "metadata": {},
   "outputs": [
    {
     "data": {
      "image/png": "[encoded data removed]",
      "text/plain": [
       "<Figure size 500x900 with 1 Axes>"
      ]
     },
     "metadata": {},
     "output_type": "display_data"
    }
   ],
   "source": [
    "ip_df['count'].sort_values().tail(5).plot.barh(figsize=(5, 9))\n",
    "plt.title('Number of Unique IP Addresses')\n",
    "plt.show()"
   ]
  },
  {
   "cell_type": "markdown",
   "id": "86eb20e7-3e79-4de3-8f71-ee0f16560025",
   "metadata": {},
   "source": [
    "  "
   ]
  },
  {
   "cell_type": "markdown",
   "id": "beba80fe-c6be-434d-bab1-d699458608b3",
   "metadata": {},
   "source": [
    "  "
   ]
  },
  {
   "cell_type": "markdown",
   "id": "876e798c-7fb0-470c-b00b-7857902e02f4",
   "metadata": {},
   "source": [
    "  "
   ]
  },
  {
   "cell_type": "markdown",
   "id": "8a0bba66-840b-4cdd-9653-b4bca171a02c",
   "metadata": {},
   "source": [
    "  "
   ]
  },
  {
   "cell_type": "markdown",
   "id": "0f94188c-9bcb-48e1-9e3d-1583b47b9199",
   "metadata": {},
   "source": [
    "# Conditional Probabilities: Probabilities using 2 discrete variables\n",
    "\n",
    "## prob(A|B) = prob(A&B)/prob(B)\n",
    "\n",
    "\n",
    "### If we are looking for an unexpected status (like authentication failure) from a known/common IP address."
   ]
  },
  {
   "cell_type": "code",
   "execution_count": 12,
   "id": "452b0bfa-f6d8-4e82-8ee6-c27e3ac9a9d1",
   "metadata": {},
   "outputs": [
    {
     "data": {
      "text/html": [
       "<div>\n",
       "<style scoped>\n",
       "    .dataframe tbody tr th:only-of-type {\n",
       "        vertical-align: middle;\n",
       "    }\n",
       "\n",
       "    .dataframe tbody tr th {\n",
       "        vertical-align: top;\n",
       "    }\n",
       "\n",
       "    .dataframe thead th {\n",
       "        text-align: right;\n",
       "    }\n",
       "</style>\n",
       "<table border=\"1\" class=\"dataframe\">\n",
       "  <thead>\n",
       "    <tr style=\"text-align: right;\">\n",
       "      <th></th>\n",
       "      <th>ip</th>\n",
       "      <th>status_code</th>\n",
       "      <th>freq_status_given_ip</th>\n",
       "    </tr>\n",
       "  </thead>\n",
       "  <tbody>\n",
       "    <tr>\n",
       "      <th>0</th>\n",
       "      <td>173.173.113.51</td>\n",
       "      <td>200</td>\n",
       "      <td>1.0</td>\n",
       "    </tr>\n",
       "    <tr>\n",
       "      <th>1</th>\n",
       "      <td>24.26.242.9</td>\n",
       "      <td>200</td>\n",
       "      <td>1.0</td>\n",
       "    </tr>\n",
       "    <tr>\n",
       "      <th>2</th>\n",
       "      <td>3.88.129.158</td>\n",
       "      <td>200</td>\n",
       "      <td>1.0</td>\n",
       "    </tr>\n",
       "    <tr>\n",
       "      <th>3</th>\n",
       "      <td>3.92.201.136</td>\n",
       "      <td>200</td>\n",
       "      <td>1.0</td>\n",
       "    </tr>\n",
       "    <tr>\n",
       "      <th>4</th>\n",
       "      <td>34.207.64.242</td>\n",
       "      <td>200</td>\n",
       "      <td>1.0</td>\n",
       "    </tr>\n",
       "  </tbody>\n",
       "</table>\n",
       "</div>"
      ],
      "text/plain": [
       "               ip status_code  freq_status_given_ip\n",
       "0  173.173.113.51         200                   1.0\n",
       "1     24.26.242.9         200                   1.0\n",
       "2    3.88.129.158         200                   1.0\n",
       "3    3.92.201.136         200                   1.0\n",
       "4   34.207.64.242         200                   1.0"
      ]
     },
     "execution_count": 12,
     "metadata": {},
     "output_type": "execute_result"
    }
   ],
   "source": [
    "status_given_ip = (\n",
    "    df.groupby('ip')\n",
    "    .status_code.value_counts(normalize=True)\n",
    "    .rename('freq_status_given_ip')\n",
    "    .reset_index()\n",
    ")\n",
    "status_given_ip.head()"
   ]
  },
  {
   "cell_type": "markdown",
   "id": "5e4ed326-2048-403d-b1d1-d206f120b021",
   "metadata": {},
   "source": [
    "  "
   ]
  },
  {
   "cell_type": "markdown",
   "id": "ac659eb4-fea9-4fa0-a638-b8bcb1c5ee6c",
   "metadata": {},
   "source": [
    "  "
   ]
  },
  {
   "cell_type": "markdown",
   "id": "6d3ab4f0-5dbd-4067-a910-cc28de92c4fd",
   "metadata": {},
   "source": [
    "  "
   ]
  },
  {
   "cell_type": "markdown",
   "id": "4469d29e-1fec-49c9-823a-0ce442bf445e",
   "metadata": {},
   "source": [
    "  "
   ]
  },
  {
   "cell_type": "code",
   "execution_count": 13,
   "id": "bedbc5be-e0e1-4c8a-b7e6-3f2ed103eb64",
   "metadata": {},
   "outputs": [
    {
     "data": {
      "text/html": [
       "<div>\n",
       "<style scoped>\n",
       "    .dataframe tbody tr th:only-of-type {\n",
       "        vertical-align: middle;\n",
       "    }\n",
       "\n",
       "    .dataframe tbody tr th {\n",
       "        vertical-align: top;\n",
       "    }\n",
       "\n",
       "    .dataframe thead th {\n",
       "        text-align: right;\n",
       "    }\n",
       "</style>\n",
       "<table border=\"1\" class=\"dataframe\">\n",
       "  <thead>\n",
       "    <tr style=\"text-align: right;\">\n",
       "      <th></th>\n",
       "      <th>ip</th>\n",
       "      <th>status_code</th>\n",
       "      <th>freq_status_given_ip</th>\n",
       "    </tr>\n",
       "  </thead>\n",
       "  <tbody>\n",
       "    <tr>\n",
       "      <th>18</th>\n",
       "      <td>72.181.113.170</td>\n",
       "      <td>499</td>\n",
       "      <td>0.003263</td>\n",
       "    </tr>\n",
       "    <tr>\n",
       "      <th>19</th>\n",
       "      <td>95.31.16.121</td>\n",
       "      <td>301</td>\n",
       "      <td>1.000000</td>\n",
       "    </tr>\n",
       "    <tr>\n",
       "      <th>21</th>\n",
       "      <td>97.105.15.120</td>\n",
       "      <td>301</td>\n",
       "      <td>1.000000</td>\n",
       "    </tr>\n",
       "    <tr>\n",
       "      <th>23</th>\n",
       "      <td>97.105.19.58</td>\n",
       "      <td>499</td>\n",
       "      <td>0.001167</td>\n",
       "    </tr>\n",
       "  </tbody>\n",
       "</table>\n",
       "</div>"
      ],
      "text/plain": [
       "                ip status_code  freq_status_given_ip\n",
       "18  72.181.113.170         499              0.003263\n",
       "19    95.31.16.121         301              1.000000\n",
       "21   97.105.15.120         301              1.000000\n",
       "23    97.105.19.58         499              0.001167"
      ]
     },
     "execution_count": 13,
     "metadata": {},
     "output_type": "execute_result"
    }
   ],
   "source": [
    "status_given_ip[status_given_ip.status_code != '200']"
   ]
  },
  {
   "cell_type": "markdown",
   "id": "733c5298-59da-4567-8b99-b2aad2d72b58",
   "metadata": {},
   "source": [
    "  "
   ]
  },
  {
   "cell_type": "markdown",
   "id": "ab2e1129-a0d3-4ab7-b2d7-1a6d9b99016b",
   "metadata": {},
   "source": [
    "  "
   ]
  },
  {
   "cell_type": "markdown",
   "id": "9e5e2a9c-58fd-409d-932c-771c5221d2cd",
   "metadata": {},
   "source": [
    "  "
   ]
  },
  {
   "cell_type": "markdown",
   "id": "0c698494-9f09-4ae1-b2b6-7e3ce38d32e9",
   "metadata": {},
   "source": [
    "  "
   ]
  },
  {
   "cell_type": "code",
   "execution_count": 14,
   "id": "03c5efd1-f715-4280-b524-8180828748b0",
   "metadata": {},
   "outputs": [
    {
     "data": {
      "text/html": [
       "<div>\n",
       "<style scoped>\n",
       "    .dataframe tbody tr th:only-of-type {\n",
       "        vertical-align: middle;\n",
       "    }\n",
       "\n",
       "    .dataframe tbody tr th {\n",
       "        vertical-align: top;\n",
       "    }\n",
       "\n",
       "    .dataframe thead th {\n",
       "        text-align: right;\n",
       "    }\n",
       "</style>\n",
       "<table border=\"1\" class=\"dataframe\">\n",
       "  <thead>\n",
       "    <tr style=\"text-align: right;\">\n",
       "      <th></th>\n",
       "      <th>ip</th>\n",
       "      <th>request_method</th>\n",
       "      <th>request_path</th>\n",
       "      <th>http_version</th>\n",
       "      <th>status_code</th>\n",
       "      <th>size</th>\n",
       "      <th>user_agent</th>\n",
       "      <th>size_mb</th>\n",
       "    </tr>\n",
       "    <tr>\n",
       "      <th>timestamp</th>\n",
       "      <th></th>\n",
       "      <th></th>\n",
       "      <th></th>\n",
       "      <th></th>\n",
       "      <th></th>\n",
       "      <th></th>\n",
       "      <th></th>\n",
       "      <th></th>\n",
       "    </tr>\n",
       "  </thead>\n",
       "  <tbody>\n",
       "    <tr>\n",
       "      <th>2019-04-18 19:42:41</th>\n",
       "      <td>97.105.15.120</td>\n",
       "      <td>GET</td>\n",
       "      <td>/api/v1/sales?page=79/</td>\n",
       "      <td>HTTP/1.1</td>\n",
       "      <td>301</td>\n",
       "      <td>2560</td>\n",
       "      <td>python-requests/2.21.0</td>\n",
       "      <td>0.002441</td>\n",
       "    </tr>\n",
       "  </tbody>\n",
       "</table>\n",
       "</div>"
      ],
      "text/plain": [
       "                                ip request_method            request_path  \\\n",
       "timestamp                                                                   \n",
       "2019-04-18 19:42:41  97.105.15.120            GET  /api/v1/sales?page=79/   \n",
       "\n",
       "                    http_version status_code  size              user_agent  \\\n",
       "timestamp                                                                    \n",
       "2019-04-18 19:42:41     HTTP/1.1         301  2560  python-requests/2.21.0   \n",
       "\n",
       "                      size_mb  \n",
       "timestamp                      \n",
       "2019-04-18 19:42:41  0.002441  "
      ]
     },
     "execution_count": 14,
     "metadata": {},
     "output_type": "execute_result"
    }
   ],
   "source": [
    "df[df.ip == '97.105.15.120']\n"
   ]
  },
  {
   "cell_type": "markdown",
   "id": "f77d414e-98b6-4626-87fa-21fd97442304",
   "metadata": {},
   "source": [
    "  "
   ]
  },
  {
   "cell_type": "markdown",
   "id": "86d99394-b0a4-4a84-ba81-489b5dadf67b",
   "metadata": {},
   "source": [
    "  "
   ]
  },
  {
   "cell_type": "markdown",
   "id": "9dd36d44-a026-4ee5-87cf-6d5bda8fd5fd",
   "metadata": {},
   "source": [
    "  "
   ]
  },
  {
   "cell_type": "markdown",
   "id": "a3d4490f-6ce1-47c0-b51e-7557c125ca67",
   "metadata": {},
   "source": [
    "  "
   ]
  },
  {
   "cell_type": "code",
   "execution_count": 15,
   "id": "4b0f3edd-e4a8-4980-9afb-63b76c7efe9e",
   "metadata": {},
   "outputs": [
    {
     "data": {
      "text/html": [
       "<div>\n",
       "<style scoped>\n",
       "    .dataframe tbody tr th:only-of-type {\n",
       "        vertical-align: middle;\n",
       "    }\n",
       "\n",
       "    .dataframe tbody tr th {\n",
       "        vertical-align: top;\n",
       "    }\n",
       "\n",
       "    .dataframe thead th {\n",
       "        text-align: right;\n",
       "    }\n",
       "</style>\n",
       "<table border=\"1\" class=\"dataframe\">\n",
       "  <thead>\n",
       "    <tr style=\"text-align: right;\">\n",
       "      <th></th>\n",
       "      <th>ip</th>\n",
       "      <th>status_code</th>\n",
       "      <th>freq_status_given_ip</th>\n",
       "    </tr>\n",
       "  </thead>\n",
       "  <tbody>\n",
       "    <tr>\n",
       "      <th>17</th>\n",
       "      <td>72.181.113.170</td>\n",
       "      <td>200</td>\n",
       "      <td>0.996737</td>\n",
       "    </tr>\n",
       "    <tr>\n",
       "      <th>18</th>\n",
       "      <td>72.181.113.170</td>\n",
       "      <td>499</td>\n",
       "      <td>0.003263</td>\n",
       "    </tr>\n",
       "    <tr>\n",
       "      <th>22</th>\n",
       "      <td>97.105.19.58</td>\n",
       "      <td>200</td>\n",
       "      <td>0.998833</td>\n",
       "    </tr>\n",
       "    <tr>\n",
       "      <th>23</th>\n",
       "      <td>97.105.19.58</td>\n",
       "      <td>499</td>\n",
       "      <td>0.001167</td>\n",
       "    </tr>\n",
       "  </tbody>\n",
       "</table>\n",
       "</div>"
      ],
      "text/plain": [
       "                ip status_code  freq_status_given_ip\n",
       "17  72.181.113.170         200              0.996737\n",
       "18  72.181.113.170         499              0.003263\n",
       "22    97.105.19.58         200              0.998833\n",
       "23    97.105.19.58         499              0.001167"
      ]
     },
     "execution_count": 15,
     "metadata": {},
     "output_type": "execute_result"
    }
   ],
   "source": [
    "status_given_ip[status_given_ip.freq_status_given_ip < 1]\n"
   ]
  },
  {
   "cell_type": "markdown",
   "id": "86b341df-3722-4bbc-b368-716e313b90b2",
   "metadata": {},
   "source": [
    "  "
   ]
  },
  {
   "cell_type": "markdown",
   "id": "49a6c99b-84b0-49e7-bac2-123f2cea538a",
   "metadata": {},
   "source": [
    "# Using the original ADA dataframe (with no new entries)\n",
    "\n",
    "## Let's Investiagte further"
   ]
  },
  {
   "cell_type": "code",
   "execution_count": 16,
   "id": "05140d42-90c9-4562-a1d6-6e074bde06b3",
   "metadata": {},
   "outputs": [
    {
     "data": {
      "text/plain": [
       "(13978, 4)"
      ]
     },
     "execution_count": 16,
     "metadata": {},
     "output_type": "execute_result"
    }
   ],
   "source": [
    "#make sure the original has 4 less entries\n",
    "len(df), len(new)"
   ]
  },
  {
   "cell_type": "code",
   "execution_count": 17,
   "id": "42663b9c-768b-49ff-a4ab-d7b3a1835c64",
   "metadata": {},
   "outputs": [
    {
     "data": {
      "text/html": [
       "<div>\n",
       "<style scoped>\n",
       "    .dataframe tbody tr th:only-of-type {\n",
       "        vertical-align: middle;\n",
       "    }\n",
       "\n",
       "    .dataframe tbody tr th {\n",
       "        vertical-align: top;\n",
       "    }\n",
       "\n",
       "    .dataframe thead th {\n",
       "        text-align: right;\n",
       "    }\n",
       "</style>\n",
       "<table border=\"1\" class=\"dataframe\">\n",
       "  <thead>\n",
       "    <tr style=\"text-align: right;\">\n",
       "      <th></th>\n",
       "      <th>ip</th>\n",
       "      <th>status_code</th>\n",
       "      <th>proba_status_given_ip</th>\n",
       "    </tr>\n",
       "  </thead>\n",
       "  <tbody>\n",
       "    <tr>\n",
       "      <th>6</th>\n",
       "      <td>35.174.209.2</td>\n",
       "      <td>200</td>\n",
       "      <td>1.000000</td>\n",
       "    </tr>\n",
       "    <tr>\n",
       "      <th>14</th>\n",
       "      <td>68.201.219.223</td>\n",
       "      <td>200</td>\n",
       "      <td>1.000000</td>\n",
       "    </tr>\n",
       "    <tr>\n",
       "      <th>17</th>\n",
       "      <td>72.181.113.170</td>\n",
       "      <td>200</td>\n",
       "      <td>0.996737</td>\n",
       "    </tr>\n",
       "    <tr>\n",
       "      <th>21</th>\n",
       "      <td>97.105.15.120</td>\n",
       "      <td>301</td>\n",
       "      <td>1.000000</td>\n",
       "    </tr>\n",
       "    <tr>\n",
       "      <th>19</th>\n",
       "      <td>95.31.16.121</td>\n",
       "      <td>301</td>\n",
       "      <td>1.000000</td>\n",
       "    </tr>\n",
       "    <tr>\n",
       "      <th>11</th>\n",
       "      <td>52.91.30.150</td>\n",
       "      <td>200</td>\n",
       "      <td>1.000000</td>\n",
       "    </tr>\n",
       "    <tr>\n",
       "      <th>13</th>\n",
       "      <td>54.172.14.223</td>\n",
       "      <td>200</td>\n",
       "      <td>1.000000</td>\n",
       "    </tr>\n",
       "    <tr>\n",
       "      <th>0</th>\n",
       "      <td>173.173.113.51</td>\n",
       "      <td>200</td>\n",
       "      <td>1.000000</td>\n",
       "    </tr>\n",
       "    <tr>\n",
       "      <th>9</th>\n",
       "      <td>52.87.230.102</td>\n",
       "      <td>200</td>\n",
       "      <td>1.000000</td>\n",
       "    </tr>\n",
       "    <tr>\n",
       "      <th>10</th>\n",
       "      <td>52.90.165.200</td>\n",
       "      <td>200</td>\n",
       "      <td>1.000000</td>\n",
       "    </tr>\n",
       "  </tbody>\n",
       "</table>\n",
       "</div>"
      ],
      "text/plain": [
       "                ip status_code  proba_status_given_ip\n",
       "6     35.174.209.2         200               1.000000\n",
       "14  68.201.219.223         200               1.000000\n",
       "17  72.181.113.170         200               0.996737\n",
       "21   97.105.15.120         301               1.000000\n",
       "19    95.31.16.121         301               1.000000\n",
       "11    52.91.30.150         200               1.000000\n",
       "13   54.172.14.223         200               1.000000\n",
       "0   173.173.113.51         200               1.000000\n",
       "9    52.87.230.102         200               1.000000\n",
       "10   52.90.165.200         200               1.000000"
      ]
     },
     "execution_count": 17,
     "metadata": {},
     "output_type": "execute_result"
    }
   ],
   "source": [
    "#look at ip address, their status and the probability it will be that status\n",
    "og_status_given_ip = (\n",
    "    df.groupby('ip')\n",
    "    .status_code.value_counts(normalize=True)\n",
    "    .rename('proba_status_given_ip')\n",
    "    .reset_index()\n",
    ")\n",
    "og_status_given_ip.sample(10)"
   ]
  },
  {
   "cell_type": "code",
   "execution_count": 18,
   "id": "7adbd4f1-7c27-47e9-b7cd-81ef13ae7976",
   "metadata": {},
   "outputs": [
    {
     "data": {
      "text/html": [
       "<div>\n",
       "<style scoped>\n",
       "    .dataframe tbody tr th:only-of-type {\n",
       "        vertical-align: middle;\n",
       "    }\n",
       "\n",
       "    .dataframe tbody tr th {\n",
       "        vertical-align: top;\n",
       "    }\n",
       "\n",
       "    .dataframe thead th {\n",
       "        text-align: right;\n",
       "    }\n",
       "</style>\n",
       "<table border=\"1\" class=\"dataframe\">\n",
       "  <thead>\n",
       "    <tr style=\"text-align: right;\">\n",
       "      <th></th>\n",
       "      <th>ip</th>\n",
       "      <th>status_code</th>\n",
       "      <th>proba_status_given_ip</th>\n",
       "    </tr>\n",
       "  </thead>\n",
       "  <tbody>\n",
       "    <tr>\n",
       "      <th>0</th>\n",
       "      <td>173.173.113.51</td>\n",
       "      <td>200</td>\n",
       "      <td>1.000000</td>\n",
       "    </tr>\n",
       "    <tr>\n",
       "      <th>1</th>\n",
       "      <td>24.26.242.9</td>\n",
       "      <td>200</td>\n",
       "      <td>1.000000</td>\n",
       "    </tr>\n",
       "    <tr>\n",
       "      <th>2</th>\n",
       "      <td>3.88.129.158</td>\n",
       "      <td>200</td>\n",
       "      <td>1.000000</td>\n",
       "    </tr>\n",
       "    <tr>\n",
       "      <th>3</th>\n",
       "      <td>3.92.201.136</td>\n",
       "      <td>200</td>\n",
       "      <td>1.000000</td>\n",
       "    </tr>\n",
       "    <tr>\n",
       "      <th>4</th>\n",
       "      <td>34.207.64.242</td>\n",
       "      <td>200</td>\n",
       "      <td>1.000000</td>\n",
       "    </tr>\n",
       "    <tr>\n",
       "      <th>5</th>\n",
       "      <td>34.229.70.250</td>\n",
       "      <td>200</td>\n",
       "      <td>1.000000</td>\n",
       "    </tr>\n",
       "    <tr>\n",
       "      <th>6</th>\n",
       "      <td>35.174.209.2</td>\n",
       "      <td>200</td>\n",
       "      <td>1.000000</td>\n",
       "    </tr>\n",
       "    <tr>\n",
       "      <th>7</th>\n",
       "      <td>35.175.171.137</td>\n",
       "      <td>200</td>\n",
       "      <td>1.000000</td>\n",
       "    </tr>\n",
       "    <tr>\n",
       "      <th>8</th>\n",
       "      <td>45.23.250.16</td>\n",
       "      <td>200</td>\n",
       "      <td>1.000000</td>\n",
       "    </tr>\n",
       "    <tr>\n",
       "      <th>9</th>\n",
       "      <td>52.87.230.102</td>\n",
       "      <td>200</td>\n",
       "      <td>1.000000</td>\n",
       "    </tr>\n",
       "    <tr>\n",
       "      <th>10</th>\n",
       "      <td>52.90.165.200</td>\n",
       "      <td>200</td>\n",
       "      <td>1.000000</td>\n",
       "    </tr>\n",
       "    <tr>\n",
       "      <th>11</th>\n",
       "      <td>52.91.30.150</td>\n",
       "      <td>200</td>\n",
       "      <td>1.000000</td>\n",
       "    </tr>\n",
       "    <tr>\n",
       "      <th>12</th>\n",
       "      <td>54.145.52.184</td>\n",
       "      <td>200</td>\n",
       "      <td>1.000000</td>\n",
       "    </tr>\n",
       "    <tr>\n",
       "      <th>13</th>\n",
       "      <td>54.172.14.223</td>\n",
       "      <td>200</td>\n",
       "      <td>1.000000</td>\n",
       "    </tr>\n",
       "    <tr>\n",
       "      <th>14</th>\n",
       "      <td>68.201.219.223</td>\n",
       "      <td>200</td>\n",
       "      <td>1.000000</td>\n",
       "    </tr>\n",
       "    <tr>\n",
       "      <th>15</th>\n",
       "      <td>70.121.214.34</td>\n",
       "      <td>200</td>\n",
       "      <td>1.000000</td>\n",
       "    </tr>\n",
       "    <tr>\n",
       "      <th>16</th>\n",
       "      <td>72.181.105.81</td>\n",
       "      <td>200</td>\n",
       "      <td>1.000000</td>\n",
       "    </tr>\n",
       "    <tr>\n",
       "      <th>17</th>\n",
       "      <td>72.181.113.170</td>\n",
       "      <td>200</td>\n",
       "      <td>0.996737</td>\n",
       "    </tr>\n",
       "    <tr>\n",
       "      <th>18</th>\n",
       "      <td>72.181.113.170</td>\n",
       "      <td>499</td>\n",
       "      <td>0.003263</td>\n",
       "    </tr>\n",
       "    <tr>\n",
       "      <th>19</th>\n",
       "      <td>95.31.16.121</td>\n",
       "      <td>301</td>\n",
       "      <td>1.000000</td>\n",
       "    </tr>\n",
       "    <tr>\n",
       "      <th>20</th>\n",
       "      <td>95.31.18.119</td>\n",
       "      <td>200</td>\n",
       "      <td>1.000000</td>\n",
       "    </tr>\n",
       "    <tr>\n",
       "      <th>21</th>\n",
       "      <td>97.105.15.120</td>\n",
       "      <td>301</td>\n",
       "      <td>1.000000</td>\n",
       "    </tr>\n",
       "    <tr>\n",
       "      <th>22</th>\n",
       "      <td>97.105.19.58</td>\n",
       "      <td>200</td>\n",
       "      <td>0.998833</td>\n",
       "    </tr>\n",
       "    <tr>\n",
       "      <th>23</th>\n",
       "      <td>97.105.19.58</td>\n",
       "      <td>499</td>\n",
       "      <td>0.001167</td>\n",
       "    </tr>\n",
       "  </tbody>\n",
       "</table>\n",
       "</div>"
      ],
      "text/plain": [
       "                ip status_code  proba_status_given_ip\n",
       "0   173.173.113.51         200               1.000000\n",
       "1      24.26.242.9         200               1.000000\n",
       "2     3.88.129.158         200               1.000000\n",
       "3     3.92.201.136         200               1.000000\n",
       "4    34.207.64.242         200               1.000000\n",
       "5    34.229.70.250         200               1.000000\n",
       "6     35.174.209.2         200               1.000000\n",
       "7   35.175.171.137         200               1.000000\n",
       "8     45.23.250.16         200               1.000000\n",
       "9    52.87.230.102         200               1.000000\n",
       "10   52.90.165.200         200               1.000000\n",
       "11    52.91.30.150         200               1.000000\n",
       "12   54.145.52.184         200               1.000000\n",
       "13   54.172.14.223         200               1.000000\n",
       "14  68.201.219.223         200               1.000000\n",
       "15   70.121.214.34         200               1.000000\n",
       "16   72.181.105.81         200               1.000000\n",
       "17  72.181.113.170         200               0.996737\n",
       "18  72.181.113.170         499               0.003263\n",
       "19    95.31.16.121         301               1.000000\n",
       "20    95.31.18.119         200               1.000000\n",
       "21   97.105.15.120         301               1.000000\n",
       "22    97.105.19.58         200               0.998833\n",
       "23    97.105.19.58         499               0.001167"
      ]
     },
     "execution_count": 18,
     "metadata": {},
     "output_type": "execute_result"
    }
   ],
   "source": [
    "# Essentially a list of the probability of each ip/status code combination\n",
    "og_status_given_ip"
   ]
  },
  {
   "cell_type": "code",
   "execution_count": 19,
   "id": "6303efd2-dfcb-4949-aeac-622b79b44375",
   "metadata": {},
   "outputs": [],
   "source": [
    "#set date to index, merge on ip and status\n",
    "df = df.reset_index().merge(status_given_ip, on=['ip', 'status_code'], how='left').fillna(value=0).set_index('timestamp')\n",
    "df['size_mb'] = df['size'] / 1024 / 1024 # conversion from bytes to kylobytes to megabytes in the new column"
   ]
  },
  {
   "cell_type": "code",
   "execution_count": 20,
   "id": "45473ac1-1059-4020-92e2-b2e594d8c6bf",
   "metadata": {},
   "outputs": [
    {
     "data": {
      "text/plain": [
       "(13978, 9)"
      ]
     },
     "execution_count": 20,
     "metadata": {},
     "output_type": "execute_result"
    }
   ],
   "source": [
    "df.shape"
   ]
  },
  {
   "cell_type": "code",
   "execution_count": 21,
   "id": "71d6201a-3eaf-4baa-aedf-3bf129b686ea",
   "metadata": {},
   "outputs": [],
   "source": [
    "#only give me the ips that have less than 15% unsuccessful accesses\n",
    "uns_df = df[df.freq_status_given_ip < 0.15]"
   ]
  },
  {
   "cell_type": "code",
   "execution_count": 22,
   "id": "e00e9cd4-a32b-4370-8f37-2d29154a6002",
   "metadata": {},
   "outputs": [
    {
     "data": {
      "text/plain": [
       "(16, 9)"
      ]
     },
     "execution_count": 22,
     "metadata": {},
     "output_type": "execute_result"
    }
   ],
   "source": [
    "uns_df.shape"
   ]
  },
  {
   "cell_type": "code",
   "execution_count": 23,
   "id": "4f4eac1f-347e-4805-b735-c304db946201",
   "metadata": {},
   "outputs": [
    {
     "data": {
      "text/plain": [
       "2019-04-16 19:55:15    1\n",
       "2019-04-16 19:56:02    1\n",
       "2019-04-16 20:28:46    1\n",
       "2019-04-16 20:33:24    1\n",
       "2019-04-16 20:38:13    1\n",
       "2019-04-16 20:38:55    1\n",
       "2019-04-16 20:39:00    1\n",
       "2019-04-16 20:45:17    1\n",
       "2019-04-16 20:45:28    1\n",
       "2019-04-16 21:00:35    1\n",
       "2019-04-16 21:02:07    1\n",
       "2019-04-16 21:30:46    1\n",
       "2019-04-16 21:39:21    1\n",
       "2019-04-16 22:21:38    1\n",
       "2019-04-17 02:48:36    1\n",
       "2019-04-17 03:42:44    1\n",
       "Name: timestamp, dtype: int64"
      ]
     },
     "execution_count": 23,
     "metadata": {},
     "output_type": "execute_result"
    }
   ],
   "source": [
    "uns_df.index.value_counts()"
   ]
  },
  {
   "cell_type": "code",
   "execution_count": 24,
   "id": "d8ca42dc-8017-4edb-b366-bba9e96c1005",
   "metadata": {},
   "outputs": [
    {
     "data": {
      "text/plain": [
       "97.105.19.58      14\n",
       "72.181.113.170     2\n",
       "Name: ip, dtype: int64"
      ]
     },
     "execution_count": 24,
     "metadata": {},
     "output_type": "execute_result"
    }
   ],
   "source": [
    "uns_df.ip.value_counts()"
   ]
  },
  {
   "cell_type": "code",
   "execution_count": 25,
   "id": "24a6db6a-78cf-4e56-b803-21b43c6a9c0c",
   "metadata": {},
   "outputs": [
    {
     "data": {
      "text/plain": [
       "ip              request_method  request_path            http_version  status_code  size  user_agent              size_mb  freq_status_given_ip\n",
       "97.105.19.58    GET             /api/v1/items           HTTP/1.1      499          0     python-requests/2.21.0  0.0      0.001167                4\n",
       "                                /api/v1/sales?page=2    HTTP/1.1      499          0     python-requests/2.21.0  0.0      0.001167                2\n",
       "72.181.113.170  GET             /api/v1/sales?page=133  HTTP/1.1      499          0     python-requests/2.21.0  0.0      0.003263                1\n",
       "                                /api/v1/sales?page=8    HTTP/1.1      499          0     python-requests/2.21.0  0.0      0.003263                1\n",
       "97.105.19.58    GET             /api/v1/sales?page=115  HTTP/1.1      499          0     python-requests/2.20.1  0.0      0.001167                1\n",
       "                                /api/v1/sales?page=2    HTTP/1.1      499          0     python-requests/2.20.1  0.0      0.001167                1\n",
       "                                /api/v1/sales?page=21   HTTP/1.1      499          0     python-requests/2.20.1  0.0      0.001167                1\n",
       "                                /api/v1/sales?page=25   HTTP/1.1      499          0     python-requests/2.21.0  0.0      0.001167                1\n",
       "                                /api/v1/sales?page=29   HTTP/1.1      499          0     python-requests/2.21.0  0.0      0.001167                1\n",
       "                                /api/v1/sales?page=47   HTTP/1.1      499          0     python-requests/2.20.1  0.0      0.001167                1\n",
       "                                /api/v1/sales?page=69   HTTP/1.1      499          0     python-requests/2.21.0  0.0      0.001167                1\n",
       "                                /api/v1/sales?page=80   HTTP/1.1      499          0     python-requests/2.21.0  0.0      0.001167                1\n",
       "dtype: int64"
      ]
     },
     "execution_count": 25,
     "metadata": {},
     "output_type": "execute_result"
    }
   ],
   "source": [
    "uns_df.value_counts()"
   ]
  },
  {
   "cell_type": "markdown",
   "id": "1f9f59f3-3352-4ae6-9ac9-c55601bccb18",
   "metadata": {},
   "source": [
    "  ## There are Threee IP addresses that have experienced an Error Status code at least once or multiple times whe trying to gain access to the curriculum"
   ]
  },
  {
   "cell_type": "markdown",
   "id": "4246b230-54b1-46df-973f-865b024a6301",
   "metadata": {},
   "source": [
    "  "
   ]
  },
  {
   "cell_type": "markdown",
   "id": "e4b0c948-6b18-4f14-8f19-639411060faf",
   "metadata": {},
   "source": [
    "  "
   ]
  },
  {
   "cell_type": "markdown",
   "id": "fcaa810d-fdb2-4fb5-84db-c057e3176f89",
   "metadata": {},
   "source": [
    "  "
   ]
  },
  {
   "cell_type": "markdown",
   "id": "b79f3920-fca6-4a9d-ba01-5cfce1f5ac4a",
   "metadata": {},
   "source": [
    "  "
   ]
  },
  {
   "cell_type": "markdown",
   "id": "37e075ae-e10f-4c94-8e64-866e64f8467e",
   "metadata": {},
   "source": [
    "  "
   ]
  },
  {
   "cell_type": "markdown",
   "id": "4b746010-4041-4990-b95f-8cbb929150c7",
   "metadata": {},
   "source": [
    "## Going to investigate size on og dataframe and then check again on the uns < 15% dataframe after"
   ]
  },
  {
   "cell_type": "code",
   "execution_count": 26,
   "id": "83a6efbf-0d19-4915-ad09-ff499ae03e85",
   "metadata": {},
   "outputs": [
    {
     "data": {
      "text/html": [
       "<div>\n",
       "<style scoped>\n",
       "    .dataframe tbody tr th:only-of-type {\n",
       "        vertical-align: middle;\n",
       "    }\n",
       "\n",
       "    .dataframe tbody tr th {\n",
       "        vertical-align: top;\n",
       "    }\n",
       "\n",
       "    .dataframe thead th {\n",
       "        text-align: right;\n",
       "    }\n",
       "</style>\n",
       "<table border=\"1\" class=\"dataframe\">\n",
       "  <thead>\n",
       "    <tr style=\"text-align: right;\">\n",
       "      <th></th>\n",
       "      <th>count</th>\n",
       "      <th>freq</th>\n",
       "    </tr>\n",
       "  </thead>\n",
       "  <tbody>\n",
       "    <tr>\n",
       "      <th>0.471896</th>\n",
       "      <td>705</td>\n",
       "      <td>0.050436</td>\n",
       "    </tr>\n",
       "    <tr>\n",
       "      <th>0.003396</th>\n",
       "      <td>548</td>\n",
       "      <td>0.039204</td>\n",
       "    </tr>\n",
       "    <tr>\n",
       "      <th>0.003489</th>\n",
       "      <td>291</td>\n",
       "      <td>0.020818</td>\n",
       "    </tr>\n",
       "    <tr>\n",
       "      <th>0.001266</th>\n",
       "      <td>229</td>\n",
       "      <td>0.016383</td>\n",
       "    </tr>\n",
       "    <tr>\n",
       "      <th>0.001704</th>\n",
       "      <td>219</td>\n",
       "      <td>0.015667</td>\n",
       "    </tr>\n",
       "    <tr>\n",
       "      <th>0.471025</th>\n",
       "      <td>209</td>\n",
       "      <td>0.014952</td>\n",
       "    </tr>\n",
       "    <tr>\n",
       "      <th>0.486502</th>\n",
       "      <td>183</td>\n",
       "      <td>0.013092</td>\n",
       "    </tr>\n",
       "    <tr>\n",
       "      <th>0.486509</th>\n",
       "      <td>179</td>\n",
       "      <td>0.012806</td>\n",
       "    </tr>\n",
       "    <tr>\n",
       "      <th>0.486506</th>\n",
       "      <td>129</td>\n",
       "      <td>0.009229</td>\n",
       "    </tr>\n",
       "    <tr>\n",
       "      <th>0.486511</th>\n",
       "      <td>126</td>\n",
       "      <td>0.009014</td>\n",
       "    </tr>\n",
       "  </tbody>\n",
       "</table>\n",
       "</div>"
      ],
      "text/plain": [
       "          count      freq\n",
       "0.471896    705  0.050436\n",
       "0.003396    548  0.039204\n",
       "0.003489    291  0.020818\n",
       "0.001266    229  0.016383\n",
       "0.001704    219  0.015667\n",
       "0.471025    209  0.014952\n",
       "0.486502    183  0.013092\n",
       "0.486509    179  0.012806\n",
       "0.486506    129  0.009229\n",
       "0.486511    126  0.009014"
      ]
     },
     "execution_count": 26,
     "metadata": {},
     "output_type": "execute_result"
    }
   ],
   "source": [
    "sizemb_df = value_counts_and_frequencies(df.size_mb)\n",
    "sizemb_df.head(10)"
   ]
  },
  {
   "cell_type": "code",
   "execution_count": 27,
   "id": "00663561-3ae2-4aa3-8ce3-ec35408c1f64",
   "metadata": {},
   "outputs": [
    {
     "data": {
      "image/png": "[encoded data removed]",
      "text/plain": [
       "<Figure size 500x900 with 1 Axes>"
      ]
     },
     "metadata": {},
     "output_type": "display_data"
    }
   ],
   "source": [
    "sizemb_df['count'].sort_values().tail(10).plot.barh(figsize=(5, 9))\n",
    "plt.title('Number of Unique Size (Megabytes)')\n",
    "plt.show()"
   ]
  },
  {
   "cell_type": "markdown",
   "id": "a09ebdf6-4868-4e6b-9d74-eb059cfc7516",
   "metadata": {},
   "source": [
    "### There is a approximately a 47% frequency of megabyte size in our data set."
   ]
  },
  {
   "cell_type": "markdown",
   "id": "21bce8f6-4c73-45a3-9b17-2edb085f5266",
   "metadata": {},
   "source": [
    "  "
   ]
  },
  {
   "cell_type": "markdown",
   "id": "d93ef930-494b-4b9a-9d2d-4647808bb11f",
   "metadata": {},
   "source": [
    "  "
   ]
  },
  {
   "cell_type": "markdown",
   "id": "93b432c0-2040-421e-985d-6d47b60403a5",
   "metadata": {},
   "source": [
    "  "
   ]
  },
  {
   "cell_type": "markdown",
   "id": "d093d624-4815-4fcf-8dc2-48f76874926e",
   "metadata": {},
   "source": [
    "  "
   ]
  },
  {
   "cell_type": "markdown",
   "id": "6d908a53-f300-4a90-9aa6-abf2e7ea5f9c",
   "metadata": {},
   "source": [
    "  "
   ]
  },
  {
   "cell_type": "markdown",
   "id": "3b9e19b0-bbcf-4152-a8b5-e848b7ab58f5",
   "metadata": {},
   "source": [
    "  "
   ]
  },
  {
   "cell_type": "markdown",
   "id": "a0543519-ffde-4aa3-9b2f-5f65e4053ebd",
   "metadata": {},
   "source": [
    "## Timestamp Traffic"
   ]
  },
  {
   "cell_type": "code",
   "execution_count": 28,
   "id": "2dbc53e1-df61-44ea-a14a-163e0dd244d1",
   "metadata": {},
   "outputs": [
    {
     "data": {
      "text/html": [
       "<div>\n",
       "<style scoped>\n",
       "    .dataframe tbody tr th:only-of-type {\n",
       "        vertical-align: middle;\n",
       "    }\n",
       "\n",
       "    .dataframe tbody tr th {\n",
       "        vertical-align: top;\n",
       "    }\n",
       "\n",
       "    .dataframe thead th {\n",
       "        text-align: right;\n",
       "    }\n",
       "</style>\n",
       "<table border=\"1\" class=\"dataframe\">\n",
       "  <thead>\n",
       "    <tr style=\"text-align: right;\">\n",
       "      <th></th>\n",
       "      <th>count</th>\n",
       "      <th>freq</th>\n",
       "    </tr>\n",
       "  </thead>\n",
       "  <tbody>\n",
       "    <tr>\n",
       "      <th>2019-04-16 19:56:10</th>\n",
       "      <td>9</td>\n",
       "      <td>0.000644</td>\n",
       "    </tr>\n",
       "    <tr>\n",
       "      <th>2019-04-16 19:49:58</th>\n",
       "      <td>8</td>\n",
       "      <td>0.000572</td>\n",
       "    </tr>\n",
       "    <tr>\n",
       "      <th>2019-04-16 20:01:30</th>\n",
       "      <td>7</td>\n",
       "      <td>0.000501</td>\n",
       "    </tr>\n",
       "    <tr>\n",
       "      <th>2019-04-16 20:12:23</th>\n",
       "      <td>6</td>\n",
       "      <td>0.000429</td>\n",
       "    </tr>\n",
       "    <tr>\n",
       "      <th>2019-04-16 20:02:59</th>\n",
       "      <td>6</td>\n",
       "      <td>0.000429</td>\n",
       "    </tr>\n",
       "    <tr>\n",
       "      <th>...</th>\n",
       "      <td>...</td>\n",
       "      <td>...</td>\n",
       "    </tr>\n",
       "    <tr>\n",
       "      <th>2019-04-16 21:10:11</th>\n",
       "      <td>1</td>\n",
       "      <td>0.000072</td>\n",
       "    </tr>\n",
       "    <tr>\n",
       "      <th>2019-04-16 21:10:09</th>\n",
       "      <td>1</td>\n",
       "      <td>0.000072</td>\n",
       "    </tr>\n",
       "    <tr>\n",
       "      <th>2019-04-16 21:10:07</th>\n",
       "      <td>1</td>\n",
       "      <td>0.000072</td>\n",
       "    </tr>\n",
       "    <tr>\n",
       "      <th>2019-04-16 21:10:05</th>\n",
       "      <td>1</td>\n",
       "      <td>0.000072</td>\n",
       "    </tr>\n",
       "    <tr>\n",
       "      <th>2019-04-19 19:42:41</th>\n",
       "      <td>1</td>\n",
       "      <td>0.000072</td>\n",
       "    </tr>\n",
       "  </tbody>\n",
       "</table>\n",
       "<p>9957 rows × 2 columns</p>\n",
       "</div>"
      ],
      "text/plain": [
       "                     count      freq\n",
       "2019-04-16 19:56:10      9  0.000644\n",
       "2019-04-16 19:49:58      8  0.000572\n",
       "2019-04-16 20:01:30      7  0.000501\n",
       "2019-04-16 20:12:23      6  0.000429\n",
       "2019-04-16 20:02:59      6  0.000429\n",
       "...                    ...       ...\n",
       "2019-04-16 21:10:11      1  0.000072\n",
       "2019-04-16 21:10:09      1  0.000072\n",
       "2019-04-16 21:10:07      1  0.000072\n",
       "2019-04-16 21:10:05      1  0.000072\n",
       "2019-04-19 19:42:41      1  0.000072\n",
       "\n",
       "[9957 rows x 2 columns]"
      ]
     },
     "execution_count": 28,
     "metadata": {},
     "output_type": "execute_result"
    }
   ],
   "source": [
    "timestamp_df = value_counts_and_frequencies(df.index)\n",
    "timestamp_df"
   ]
  },
  {
   "cell_type": "code",
   "execution_count": 29,
   "id": "790d3dbe-626f-4f5c-aa34-253cba105676",
   "metadata": {},
   "outputs": [
    {
     "data": {
      "image/png": "[encoded data removed]",
      "text/plain": [
       "<Figure size 500x900 with 1 Axes>"
      ]
     },
     "metadata": {},
     "output_type": "display_data"
    }
   ],
   "source": [
    "timestamp_df['count'].sort_values().tail().plot.barh(figsize=(5, 9))\n",
    "plt.title('Access Time Stamps')\n",
    "plt.show()"
   ]
  },
  {
   "cell_type": "markdown",
   "id": "bc8aa577-251b-4b56-9a74-ec83eddcd425",
   "metadata": {},
   "source": [
    "## highest Timestamp recorded at 2019-04-16 19:56:10 and traffic was high at between 7:56PM to 8:10PM"
   ]
  },
  {
   "cell_type": "markdown",
   "id": "be3c2179-5119-474e-869b-9801e2d22496",
   "metadata": {},
   "source": [
    "  "
   ]
  },
  {
   "cell_type": "markdown",
   "id": "6fcb661b-d3d0-428d-8453-e99581ebd726",
   "metadata": {},
   "source": [
    "  "
   ]
  },
  {
   "cell_type": "markdown",
   "id": "59d09e90-a5f0-4128-806c-6b59ebc25245",
   "metadata": {},
   "source": [
    "  "
   ]
  },
  {
   "cell_type": "markdown",
   "id": "30049f8e-a9d9-4552-b568-09d8fdfeae3c",
   "metadata": {},
   "source": [
    "  "
   ]
  },
  {
   "cell_type": "markdown",
   "id": "6704939c-8d39-4639-96ff-7b08fd75ba35",
   "metadata": {},
   "source": [
    "  "
   ]
  },
  {
   "cell_type": "markdown",
   "id": "c372336b-cd9b-419a-8c30-9dcf105f4aac",
   "metadata": {},
   "source": [
    "  "
   ]
  },
  {
   "cell_type": "markdown",
   "id": "b7dc2a05-70be-4cc5-8ad1-684ef99491c7",
   "metadata": {},
   "source": [
    "  "
   ]
  },
  {
   "cell_type": "markdown",
   "id": "f11a8734-7efe-4d22-a7a9-7b171210c26c",
   "metadata": {},
   "source": [
    "  "
   ]
  },
  {
   "cell_type": "markdown",
   "id": "9900bf72-e342-4528-8a05-b4b92eda934b",
   "metadata": {},
   "source": [
    "  "
   ]
  },
  {
   "cell_type": "markdown",
   "id": "b88ed8d9-383a-4162-964f-255b6538d145",
   "metadata": {},
   "source": [
    "  ## Now I will begin using two discrete variables"
   ]
  },
  {
   "cell_type": "code",
   "execution_count": 30,
   "id": "c9b74aff-ab3a-4e81-8d0c-6b9df3abce4b",
   "metadata": {},
   "outputs": [
    {
     "data": {
      "text/html": [
       "<div>\n",
       "<style scoped>\n",
       "    .dataframe tbody tr th:only-of-type {\n",
       "        vertical-align: middle;\n",
       "    }\n",
       "\n",
       "    .dataframe tbody tr th {\n",
       "        vertical-align: top;\n",
       "    }\n",
       "\n",
       "    .dataframe thead th {\n",
       "        text-align: right;\n",
       "    }\n",
       "</style>\n",
       "<table border=\"1\" class=\"dataframe\">\n",
       "  <thead>\n",
       "    <tr style=\"text-align: right;\">\n",
       "      <th></th>\n",
       "      <th>ip</th>\n",
       "      <th>request_method</th>\n",
       "      <th>request_path</th>\n",
       "      <th>http_version</th>\n",
       "      <th>status_code</th>\n",
       "      <th>size</th>\n",
       "      <th>user_agent</th>\n",
       "      <th>size_mb</th>\n",
       "      <th>freq_status_given_ip</th>\n",
       "    </tr>\n",
       "    <tr>\n",
       "      <th>timestamp</th>\n",
       "      <th></th>\n",
       "      <th></th>\n",
       "      <th></th>\n",
       "      <th></th>\n",
       "      <th></th>\n",
       "      <th></th>\n",
       "      <th></th>\n",
       "      <th></th>\n",
       "      <th></th>\n",
       "    </tr>\n",
       "  </thead>\n",
       "  <tbody>\n",
       "    <tr>\n",
       "      <th>2019-04-16 19:34:42</th>\n",
       "      <td>97.105.19.58</td>\n",
       "      <td>GET</td>\n",
       "      <td>/api/v1/sales?page=81</td>\n",
       "      <td>HTTP/1.1</td>\n",
       "      <td>200</td>\n",
       "      <td>512495</td>\n",
       "      <td>python-requests/2.21.0</td>\n",
       "      <td>0.488753</td>\n",
       "      <td>0.998833</td>\n",
       "    </tr>\n",
       "    <tr>\n",
       "      <th>2019-04-16 19:34:42</th>\n",
       "      <td>97.105.19.58</td>\n",
       "      <td>GET</td>\n",
       "      <td>/api/v1/items</td>\n",
       "      <td>HTTP/1.1</td>\n",
       "      <td>200</td>\n",
       "      <td>3561</td>\n",
       "      <td>python-requests/2.21.0</td>\n",
       "      <td>0.003396</td>\n",
       "      <td>0.998833</td>\n",
       "    </tr>\n",
       "    <tr>\n",
       "      <th>2019-04-16 19:34:44</th>\n",
       "      <td>97.105.19.58</td>\n",
       "      <td>GET</td>\n",
       "      <td>/api/v1/sales?page=82</td>\n",
       "      <td>HTTP/1.1</td>\n",
       "      <td>200</td>\n",
       "      <td>510103</td>\n",
       "      <td>python-requests/2.21.0</td>\n",
       "      <td>0.486472</td>\n",
       "      <td>0.998833</td>\n",
       "    </tr>\n",
       "    <tr>\n",
       "      <th>2019-04-16 19:34:46</th>\n",
       "      <td>97.105.19.58</td>\n",
       "      <td>GET</td>\n",
       "      <td>/api/v1/sales?page=83</td>\n",
       "      <td>HTTP/1.1</td>\n",
       "      <td>200</td>\n",
       "      <td>510003</td>\n",
       "      <td>python-requests/2.21.0</td>\n",
       "      <td>0.486377</td>\n",
       "      <td>0.998833</td>\n",
       "    </tr>\n",
       "    <tr>\n",
       "      <th>2019-04-16 19:34:48</th>\n",
       "      <td>97.105.19.58</td>\n",
       "      <td>GET</td>\n",
       "      <td>/api/v1/sales?page=84</td>\n",
       "      <td>HTTP/1.1</td>\n",
       "      <td>200</td>\n",
       "      <td>511963</td>\n",
       "      <td>python-requests/2.21.0</td>\n",
       "      <td>0.488246</td>\n",
       "      <td>0.998833</td>\n",
       "    </tr>\n",
       "  </tbody>\n",
       "</table>\n",
       "</div>"
      ],
      "text/plain": [
       "                               ip request_method           request_path  \\\n",
       "timestamp                                                                 \n",
       "2019-04-16 19:34:42  97.105.19.58            GET  /api/v1/sales?page=81   \n",
       "2019-04-16 19:34:42  97.105.19.58            GET          /api/v1/items   \n",
       "2019-04-16 19:34:44  97.105.19.58            GET  /api/v1/sales?page=82   \n",
       "2019-04-16 19:34:46  97.105.19.58            GET  /api/v1/sales?page=83   \n",
       "2019-04-16 19:34:48  97.105.19.58            GET  /api/v1/sales?page=84   \n",
       "\n",
       "                    http_version status_code    size              user_agent  \\\n",
       "timestamp                                                                      \n",
       "2019-04-16 19:34:42     HTTP/1.1         200  512495  python-requests/2.21.0   \n",
       "2019-04-16 19:34:42     HTTP/1.1         200    3561  python-requests/2.21.0   \n",
       "2019-04-16 19:34:44     HTTP/1.1         200  510103  python-requests/2.21.0   \n",
       "2019-04-16 19:34:46     HTTP/1.1         200  510003  python-requests/2.21.0   \n",
       "2019-04-16 19:34:48     HTTP/1.1         200  511963  python-requests/2.21.0   \n",
       "\n",
       "                      size_mb  freq_status_given_ip  \n",
       "timestamp                                            \n",
       "2019-04-16 19:34:42  0.488753              0.998833  \n",
       "2019-04-16 19:34:42  0.003396              0.998833  \n",
       "2019-04-16 19:34:44  0.486472              0.998833  \n",
       "2019-04-16 19:34:46  0.486377              0.998833  \n",
       "2019-04-16 19:34:48  0.488246              0.998833  "
      ]
     },
     "execution_count": 30,
     "metadata": {},
     "output_type": "execute_result"
    }
   ],
   "source": [
    "df.head()"
   ]
  },
  {
   "cell_type": "markdown",
   "id": "0b02498f-65f0-48fc-98e1-cb2b65fe8af5",
   "metadata": {},
   "source": [
    "## size_mb | ip probability"
   ]
  },
  {
   "cell_type": "code",
   "execution_count": 31,
   "id": "d1a20088-c824-47c0-ab1e-57d497fc8237",
   "metadata": {},
   "outputs": [
    {
     "data": {
      "text/html": [
       "<div>\n",
       "<style scoped>\n",
       "    .dataframe tbody tr th:only-of-type {\n",
       "        vertical-align: middle;\n",
       "    }\n",
       "\n",
       "    .dataframe tbody tr th {\n",
       "        vertical-align: top;\n",
       "    }\n",
       "\n",
       "    .dataframe thead th {\n",
       "        text-align: right;\n",
       "    }\n",
       "</style>\n",
       "<table border=\"1\" class=\"dataframe\">\n",
       "  <thead>\n",
       "    <tr style=\"text-align: right;\">\n",
       "      <th></th>\n",
       "      <th>ip</th>\n",
       "      <th>size_mb</th>\n",
       "      <th>freq_size_given_ip</th>\n",
       "    </tr>\n",
       "  </thead>\n",
       "  <tbody>\n",
       "    <tr>\n",
       "      <th>0</th>\n",
       "      <td>173.173.113.51</td>\n",
       "      <td>0.003396</td>\n",
       "      <td>0.060434</td>\n",
       "    </tr>\n",
       "    <tr>\n",
       "      <th>1</th>\n",
       "      <td>173.173.113.51</td>\n",
       "      <td>0.001704</td>\n",
       "      <td>0.058546</td>\n",
       "    </tr>\n",
       "    <tr>\n",
       "      <th>2</th>\n",
       "      <td>173.173.113.51</td>\n",
       "      <td>0.003489</td>\n",
       "      <td>0.058546</td>\n",
       "    </tr>\n",
       "    <tr>\n",
       "      <th>3</th>\n",
       "      <td>173.173.113.51</td>\n",
       "      <td>0.001266</td>\n",
       "      <td>0.050992</td>\n",
       "    </tr>\n",
       "    <tr>\n",
       "      <th>4</th>\n",
       "      <td>173.173.113.51</td>\n",
       "      <td>0.486502</td>\n",
       "      <td>0.013220</td>\n",
       "    </tr>\n",
       "  </tbody>\n",
       "</table>\n",
       "</div>"
      ],
      "text/plain": [
       "               ip   size_mb  freq_size_given_ip\n",
       "0  173.173.113.51  0.003396            0.060434\n",
       "1  173.173.113.51  0.001704            0.058546\n",
       "2  173.173.113.51  0.003489            0.058546\n",
       "3  173.173.113.51  0.001266            0.050992\n",
       "4  173.173.113.51  0.486502            0.013220"
      ]
     },
     "execution_count": 31,
     "metadata": {},
     "output_type": "execute_result"
    }
   ],
   "source": [
    "size_given_ip = (\n",
    "    df.groupby('ip')\n",
    "    .size_mb.value_counts(normalize=True)\n",
    "    .rename('freq_size_given_ip')\n",
    "    .reset_index()\n",
    ")\n",
    "size_given_ip.head()"
   ]
  },
  {
   "cell_type": "code",
   "execution_count": 44,
   "id": "da25be76-ec95-4164-bc47-a1f22866aad8",
   "metadata": {},
   "outputs": [
    {
     "data": {
      "text/html": [
       "<div>\n",
       "<style scoped>\n",
       "    .dataframe tbody tr th:only-of-type {\n",
       "        vertical-align: middle;\n",
       "    }\n",
       "\n",
       "    .dataframe tbody tr th {\n",
       "        vertical-align: top;\n",
       "    }\n",
       "\n",
       "    .dataframe thead th {\n",
       "        text-align: right;\n",
       "    }\n",
       "</style>\n",
       "<table border=\"1\" class=\"dataframe\">\n",
       "  <thead>\n",
       "    <tr style=\"text-align: right;\">\n",
       "      <th></th>\n",
       "      <th>ip</th>\n",
       "      <th>size_mb</th>\n",
       "      <th>freq_size_given_ip</th>\n",
       "    </tr>\n",
       "  </thead>\n",
       "  <tbody>\n",
       "    <tr>\n",
       "      <th>743</th>\n",
       "      <td>97.105.19.58</td>\n",
       "      <td>0.000120</td>\n",
       "      <td>0.000083</td>\n",
       "    </tr>\n",
       "    <tr>\n",
       "      <th>744</th>\n",
       "      <td>97.105.19.58</td>\n",
       "      <td>0.265481</td>\n",
       "      <td>0.000083</td>\n",
       "    </tr>\n",
       "    <tr>\n",
       "      <th>745</th>\n",
       "      <td>97.105.19.58</td>\n",
       "      <td>0.312356</td>\n",
       "      <td>0.000083</td>\n",
       "    </tr>\n",
       "    <tr>\n",
       "      <th>746</th>\n",
       "      <td>97.105.19.58</td>\n",
       "      <td>0.327981</td>\n",
       "      <td>0.000083</td>\n",
       "    </tr>\n",
       "    <tr>\n",
       "      <th>747</th>\n",
       "      <td>97.105.19.58</td>\n",
       "      <td>0.343606</td>\n",
       "      <td>0.000083</td>\n",
       "    </tr>\n",
       "    <tr>\n",
       "      <th>748</th>\n",
       "      <td>97.105.19.58</td>\n",
       "      <td>1.961066</td>\n",
       "      <td>0.000083</td>\n",
       "    </tr>\n",
       "  </tbody>\n",
       "</table>\n",
       "</div>"
      ],
      "text/plain": [
       "               ip   size_mb  freq_size_given_ip\n",
       "743  97.105.19.58  0.000120            0.000083\n",
       "744  97.105.19.58  0.265481            0.000083\n",
       "745  97.105.19.58  0.312356            0.000083\n",
       "746  97.105.19.58  0.327981            0.000083\n",
       "747  97.105.19.58  0.343606            0.000083\n",
       "748  97.105.19.58  1.961066            0.000083"
      ]
     },
     "execution_count": 44,
     "metadata": {},
     "output_type": "execute_result"
    }
   ],
   "source": [
    "size_given_ip[size_given_ip.freq_size_given_ip <= 0.000100]"
   ]
  },
  {
   "cell_type": "markdown",
   "id": "9cd9d30c-1692-4bc6-b1c2-36e96ad42378",
   "metadata": {},
   "source": [
    "## The same IP address had a size_mb of 2mb or less from their request"
   ]
  },
  {
   "cell_type": "code",
   "execution_count": 50,
   "id": "10e4d586-7a95-446b-85fe-33aa3920d2ec",
   "metadata": {},
   "outputs": [
    {
     "data": {
      "text/html": [
       "<div>\n",
       "<style scoped>\n",
       "    .dataframe tbody tr th:only-of-type {\n",
       "        vertical-align: middle;\n",
       "    }\n",
       "\n",
       "    .dataframe tbody tr th {\n",
       "        vertical-align: top;\n",
       "    }\n",
       "\n",
       "    .dataframe thead th {\n",
       "        text-align: right;\n",
       "    }\n",
       "</style>\n",
       "<table border=\"1\" class=\"dataframe\">\n",
       "  <thead>\n",
       "    <tr style=\"text-align: right;\">\n",
       "      <th></th>\n",
       "      <th>ip</th>\n",
       "      <th>size_mb</th>\n",
       "      <th>freq_size_given_ip</th>\n",
       "    </tr>\n",
       "  </thead>\n",
       "  <tbody>\n",
       "    <tr>\n",
       "      <th>0</th>\n",
       "      <td>173.173.113.51</td>\n",
       "      <td>0.003396</td>\n",
       "      <td>0.060434</td>\n",
       "    </tr>\n",
       "    <tr>\n",
       "      <th>1</th>\n",
       "      <td>173.173.113.51</td>\n",
       "      <td>0.001704</td>\n",
       "      <td>0.058546</td>\n",
       "    </tr>\n",
       "    <tr>\n",
       "      <th>2</th>\n",
       "      <td>173.173.113.51</td>\n",
       "      <td>0.003489</td>\n",
       "      <td>0.058546</td>\n",
       "    </tr>\n",
       "    <tr>\n",
       "      <th>3</th>\n",
       "      <td>173.173.113.51</td>\n",
       "      <td>0.001266</td>\n",
       "      <td>0.050992</td>\n",
       "    </tr>\n",
       "    <tr>\n",
       "      <th>4</th>\n",
       "      <td>173.173.113.51</td>\n",
       "      <td>0.486502</td>\n",
       "      <td>0.013220</td>\n",
       "    </tr>\n",
       "    <tr>\n",
       "      <th>...</th>\n",
       "      <td>...</td>\n",
       "      <td>...</td>\n",
       "      <td>...</td>\n",
       "    </tr>\n",
       "    <tr>\n",
       "      <th>744</th>\n",
       "      <td>97.105.19.58</td>\n",
       "      <td>0.265481</td>\n",
       "      <td>0.000083</td>\n",
       "    </tr>\n",
       "    <tr>\n",
       "      <th>745</th>\n",
       "      <td>97.105.19.58</td>\n",
       "      <td>0.312356</td>\n",
       "      <td>0.000083</td>\n",
       "    </tr>\n",
       "    <tr>\n",
       "      <th>746</th>\n",
       "      <td>97.105.19.58</td>\n",
       "      <td>0.327981</td>\n",
       "      <td>0.000083</td>\n",
       "    </tr>\n",
       "    <tr>\n",
       "      <th>747</th>\n",
       "      <td>97.105.19.58</td>\n",
       "      <td>0.343606</td>\n",
       "      <td>0.000083</td>\n",
       "    </tr>\n",
       "    <tr>\n",
       "      <th>748</th>\n",
       "      <td>97.105.19.58</td>\n",
       "      <td>1.961066</td>\n",
       "      <td>0.000083</td>\n",
       "    </tr>\n",
       "  </tbody>\n",
       "</table>\n",
       "<p>736 rows × 3 columns</p>\n",
       "</div>"
      ],
      "text/plain": [
       "                 ip   size_mb  freq_size_given_ip\n",
       "0    173.173.113.51  0.003396            0.060434\n",
       "1    173.173.113.51  0.001704            0.058546\n",
       "2    173.173.113.51  0.003489            0.058546\n",
       "3    173.173.113.51  0.001266            0.050992\n",
       "4    173.173.113.51  0.486502            0.013220\n",
       "..              ...       ...                 ...\n",
       "744    97.105.19.58  0.265481            0.000083\n",
       "745    97.105.19.58  0.312356            0.000083\n",
       "746    97.105.19.58  0.327981            0.000083\n",
       "747    97.105.19.58  0.343606            0.000083\n",
       "748    97.105.19.58  1.961066            0.000083\n",
       "\n",
       "[736 rows x 3 columns]"
      ]
     },
     "execution_count": 50,
     "metadata": {},
     "output_type": "execute_result"
    }
   ],
   "source": [
    "size_given_ip[size_given_ip.freq_size_given_ip < 0.75]"
   ]
  },
  {
   "cell_type": "code",
   "execution_count": 51,
   "id": "a358b81d-bbb3-4391-af4d-298df76ec1d0",
   "metadata": {},
   "outputs": [
    {
     "data": {
      "text/html": [
       "<div>\n",
       "<style scoped>\n",
       "    .dataframe tbody tr th:only-of-type {\n",
       "        vertical-align: middle;\n",
       "    }\n",
       "\n",
       "    .dataframe tbody tr th {\n",
       "        vertical-align: top;\n",
       "    }\n",
       "\n",
       "    .dataframe thead th {\n",
       "        text-align: right;\n",
       "    }\n",
       "</style>\n",
       "<table border=\"1\" class=\"dataframe\">\n",
       "  <thead>\n",
       "    <tr style=\"text-align: right;\">\n",
       "      <th></th>\n",
       "      <th>ip</th>\n",
       "      <th>size_mb</th>\n",
       "      <th>freq_size_given_ip</th>\n",
       "    </tr>\n",
       "  </thead>\n",
       "  <tbody>\n",
       "    <tr>\n",
       "      <th>181</th>\n",
       "      <td>3.88.129.158</td>\n",
       "      <td>0.003396</td>\n",
       "      <td>1.0</td>\n",
       "    </tr>\n",
       "    <tr>\n",
       "      <th>182</th>\n",
       "      <td>3.92.201.136</td>\n",
       "      <td>0.000040</td>\n",
       "      <td>1.0</td>\n",
       "    </tr>\n",
       "    <tr>\n",
       "      <th>183</th>\n",
       "      <td>34.207.64.242</td>\n",
       "      <td>0.000154</td>\n",
       "      <td>1.0</td>\n",
       "    </tr>\n",
       "    <tr>\n",
       "      <th>184</th>\n",
       "      <td>34.229.70.250</td>\n",
       "      <td>0.000154</td>\n",
       "      <td>1.0</td>\n",
       "    </tr>\n",
       "    <tr>\n",
       "      <th>185</th>\n",
       "      <td>35.174.209.2</td>\n",
       "      <td>0.000154</td>\n",
       "      <td>1.0</td>\n",
       "    </tr>\n",
       "    <tr>\n",
       "      <th>188</th>\n",
       "      <td>45.23.250.16</td>\n",
       "      <td>0.001266</td>\n",
       "      <td>1.0</td>\n",
       "    </tr>\n",
       "    <tr>\n",
       "      <th>191</th>\n",
       "      <td>52.90.165.200</td>\n",
       "      <td>0.000154</td>\n",
       "      <td>1.0</td>\n",
       "    </tr>\n",
       "    <tr>\n",
       "      <th>192</th>\n",
       "      <td>52.91.30.150</td>\n",
       "      <td>0.000040</td>\n",
       "      <td>1.0</td>\n",
       "    </tr>\n",
       "    <tr>\n",
       "      <th>193</th>\n",
       "      <td>54.145.52.184</td>\n",
       "      <td>0.000154</td>\n",
       "      <td>1.0</td>\n",
       "    </tr>\n",
       "    <tr>\n",
       "      <th>194</th>\n",
       "      <td>54.172.14.223</td>\n",
       "      <td>0.000154</td>\n",
       "      <td>1.0</td>\n",
       "    </tr>\n",
       "    <tr>\n",
       "      <th>559</th>\n",
       "      <td>95.31.16.121</td>\n",
       "      <td>0.000958</td>\n",
       "      <td>1.0</td>\n",
       "    </tr>\n",
       "    <tr>\n",
       "      <th>560</th>\n",
       "      <td>95.31.18.119</td>\n",
       "      <td>1.099591</td>\n",
       "      <td>1.0</td>\n",
       "    </tr>\n",
       "    <tr>\n",
       "      <th>561</th>\n",
       "      <td>97.105.15.120</td>\n",
       "      <td>0.002441</td>\n",
       "      <td>1.0</td>\n",
       "    </tr>\n",
       "  </tbody>\n",
       "</table>\n",
       "</div>"
      ],
      "text/plain": [
       "                ip   size_mb  freq_size_given_ip\n",
       "181   3.88.129.158  0.003396                 1.0\n",
       "182   3.92.201.136  0.000040                 1.0\n",
       "183  34.207.64.242  0.000154                 1.0\n",
       "184  34.229.70.250  0.000154                 1.0\n",
       "185   35.174.209.2  0.000154                 1.0\n",
       "188   45.23.250.16  0.001266                 1.0\n",
       "191  52.90.165.200  0.000154                 1.0\n",
       "192   52.91.30.150  0.000040                 1.0\n",
       "193  54.145.52.184  0.000154                 1.0\n",
       "194  54.172.14.223  0.000154                 1.0\n",
       "559   95.31.16.121  0.000958                 1.0\n",
       "560   95.31.18.119  1.099591                 1.0\n",
       "561  97.105.15.120  0.002441                 1.0"
      ]
     },
     "execution_count": 51,
     "metadata": {},
     "output_type": "execute_result"
    }
   ],
   "source": [
    "size_given_ip[size_given_ip.freq_size_given_ip > 0.75]"
   ]
  },
  {
   "cell_type": "markdown",
   "id": "80a4547b-d92e-494a-881d-ae5d75222144",
   "metadata": {},
   "source": [
    "## Nothing to note here"
   ]
  },
  {
   "cell_type": "markdown",
   "id": "587419d9-2989-4dea-98f9-516800f6d6f9",
   "metadata": {},
   "source": [
    "  "
   ]
  }
 ],
 "metadata": {
  "kernelspec": {
   "display_name": "Python 3 (ipykernel)",
   "language": "python",
   "name": "python3"
  },
  "language_info": {
   "codemirror_mode": {
    "name": "ipython",
    "version": 3
   },
   "file_extension": ".py",
   "mimetype": "text/x-python",
   "name": "python",
   "nbconvert_exporter": "python",
   "pygments_lexer": "ipython3",
   "version": "3.10.9"
  }
 },
 "nbformat": 4,
 "nbformat_minor": 5
}
